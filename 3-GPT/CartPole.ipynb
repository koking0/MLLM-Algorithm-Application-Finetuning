{
 "cells": [
  {
   "cell_type": "code",
   "execution_count": 14,
   "outputs": [],
   "source": [
    "import torch as th\n",
    "import numpy as np\n",
    "import gymnasium as gym\n",
    "import torch.nn.functional as F\n",
    "import matplotlib.pyplot as plt\n",
    "\n",
    "from tqdm import tqdm"
   ],
   "metadata": {
    "collapsed": false
   }
  },
  {
   "cell_type": "code",
   "execution_count": 15,
   "outputs": [],
   "source": [
    "class PolicyNet(th.nn.Module):\n",
    "    def __init__(self, state_dim, hidden_dim, action_dim):\n",
    "        super(PolicyNet, self).__init__()\n",
    "        # 定义第一层全连接层，输入维度为状态维度，输出维度为隐藏层维度\n",
    "        self.fc1 = th.nn.Linear(state_dim, hidden_dim)\n",
    "        # 定义第二层全连接层，输入维度为隐藏层维度，输出维度为动作维度\n",
    "        self.fc2 = th.nn.Linear(hidden_dim, action_dim)\n",
    "\n",
    "    def forward(self, x):\n",
    "        # 使用ReLU作为激活函数\n",
    "        x = F.relu(self.fc1(x))\n",
    "        # 对第二层的输出使用softmax，得到一个概率分布\n",
    "        return F.softmax(self.fc2(x), dim=1)\n",
    "\n",
    "\n",
    "class ValueNet(th.nn.Module):\n",
    "    def __init__(self, state_dim, hidden_dim):\n",
    "        super(ValueNet, self).__init__()\n",
    "        # 定义第一层全连接层，输入维度为状态维度，输出维度为隐藏层维度\n",
    "        self.fc1 = th.nn.Linear(state_dim, hidden_dim)\n",
    "        # 定义第二层全连接层，输入维度为隐藏层维度，输出维度为1，表示状态价值\n",
    "        self.fc2 = th.nn.Linear(hidden_dim, 1)\n",
    "\n",
    "    def forward(self, x):\n",
    "        # 使用ReLU作为激活函数\n",
    "        x = F.relu(self.fc1(x))\n",
    "        # 第二层直接输出，代表状态的价值\n",
    "        return self.fc2(x)"
   ],
   "metadata": {
    "collapsed": false
   }
  },
  {
   "cell_type": "code",
   "execution_count": 16,
   "outputs": [],
   "source": [
    "def compute_advantage(gamma, lambda_, td_delta):\n",
    "    # 将td_delta从PyTorch张量转化为numpy数组\n",
    "    td_delta = td_delta.detach().numpy()\n",
    "    # 初始化优势值和优势列表\n",
    "    advantage_list = []\n",
    "    advantage = 0.0\n",
    "    # 以逆序遍历td_delta中的每一个元素\n",
    "    for delta in td_delta[::-1]:\n",
    "        # 利用公式`advantage = gamma * lambda_ * advantage + delta`计算每个时间步的优势\n",
    "        advantage = gamma * lambda_ * advantage + delta\n",
    "        # 将优势添加到优势列表中\n",
    "        advantage_list.append(advantage)\n",
    "    # 将优势列表中的元素顺序反转\n",
    "    advantage_list.reverse()\n",
    "    # 将优势列表转化为PyTorch张量\n",
    "    return th.tensor(advantage_list, dtype=th.float)"
   ],
   "metadata": {
    "collapsed": false
   }
  },
  {
   "cell_type": "code",
   "execution_count": 17,
   "outputs": [],
   "source": [
    "class PPO:\n",
    "    def __init__(self, state_dim, hidden_dim, action_dim, actor_lr, critic_lr,\n",
    "                 lambda_, epochs, eps, gamma, device):\n",
    "        # 初始化Actor网络和Critic网络\n",
    "        self.actor = PolicyNet(state_dim, hidden_dim, action_dim).to(device)\n",
    "        self.critic = ValueNet(state_dim, hidden_dim).to(device)\n",
    "        # 设置对应的优化器\n",
    "        self.actor_optimizer = th.optim.Adam(self.actor.parameters(),\n",
    "                                             lr=actor_lr)\n",
    "        self.critic_optimizer = th.optim.Adam(self.critic.parameters(),\n",
    "                                              lr=critic_lr)\n",
    "        # 设置强化学习的参数\n",
    "        self.gamma = gamma\n",
    "        self.lambda_ = lambda_\n",
    "        self.epochs = epochs  # 一条序列的数据用来训练轮数\n",
    "        self.eps = eps  # PPO中截断范围的参数\n",
    "        self.device = device  # 设备选择（CPU or GPU）\n",
    "\n",
    "    def take_action(self, state):\n",
    "        # 通过Actor网络获取动作的概率分布\n",
    "        state = th.tensor(np.array([state]), dtype=th.float).to(self.device)\n",
    "        probs = self.actor(state)\n",
    "        # 从动作的概率分布中采样一个动作\n",
    "        action_dist = th.distributions.Categorical(probs)\n",
    "        action = action_dist.sample()\n",
    "        return action.item()\n",
    "\n",
    "    def update(self, transition_dict):\n",
    "        # 获取转换的状态、动作、奖励、下一状态和结束标志\n",
    "        states = th.tensor(transition_dict[\"states\"], dtype=th.float).to(self.device)\n",
    "        actions = th.tensor(transition_dict[\"actions\"]).view(-1, 1).to(self.device)\n",
    "        rewards = th.tensor(transition_dict[\"rewards\"], dtype=th.float).view(-1, 1).to(self.device)\n",
    "        next_states = th.tensor(transition_dict[\"next_states\"], dtype=th.float).to(self.device)\n",
    "        dones = th.tensor(transition_dict[\"dones\"], dtype=th.float).view(-1, 1).to(self.device)\n",
    "\n",
    "        # 计算TD目标和TD误差\n",
    "        td_target = rewards + self.gamma * self.critic(next_states) * (1 - dones)\n",
    "        td_delta = td_target - self.critic(states)\n",
    "\n",
    "        # 计算优势函数\n",
    "        advantage = compute_advantage(self.gamma, self.lambda_, td_delta.cpu()).to(self.device)\n",
    "        old_log_probs = th.log(self.actor(states).gather(1, actions)).detach()\n",
    "\n",
    "        # 进行多轮的网络更新\n",
    "        for _ in range(self.epochs):\n",
    "            # 计算新的动作概率\n",
    "            log_probs = th.log(self.actor(states).gather(1, actions))\n",
    "            ratio = th.exp(log_probs - old_log_probs)\n",
    "\n",
    "            # 计算PPO的两种Surrogate函数\n",
    "            surr1 = ratio * advantage\n",
    "            surr2 = th.clamp(ratio, 1 - self.eps, 1 + self.eps) * advantage  # 截断\n",
    "\n",
    "            # 计算Actor和Critic的损失\n",
    "            actor_loss = th.mean(-th.min(surr1, surr2))  # PPO损失函数\n",
    "            critic_loss = th.mean(F.mse_loss(self.critic(states), td_target.detach()))\n",
    "\n",
    "            # 清空优化器的梯度\n",
    "            self.actor_optimizer.zero_grad()\n",
    "            self.critic_optimizer.zero_grad()\n",
    "\n",
    "            # 反向传播损失，并执行一步优化\n",
    "            actor_loss.backward()\n",
    "            critic_loss.backward()\n",
    "            self.actor_optimizer.step()\n",
    "            self.critic_optimizer.step()"
   ],
   "metadata": {
    "collapsed": false
   }
  },
  {
   "cell_type": "code",
   "execution_count": 18,
   "outputs": [],
   "source": [
    "def train_on_policy_agent(env, agent, num_episodes):\n",
    "    return_list = []  # 用于存储每个周期的总回报\n",
    "    for i in range(10):  # 总共进行10次迭代\n",
    "        with tqdm(total=int(num_episodes / 10), desc=f\"Iteration: {i}\") as pbar:\n",
    "            for i_episode in range(int(num_episodes / 10)):  # 在每个迭代周期中，智能体都会进行num_episodes / 10次动作\n",
    "                episode_return = 0  # 用于存储每个周期的总回报\n",
    "                transition_dict = {\"states\": [], \"actions\": [], \"next_states\": [], \"rewards\": [], \"dones\": []}  # 用于存储每个周期中的状态，动作和奖励等信息\n",
    "                state, _ = env.reset()  # 重置环境，并获取初始状态\n",
    "                done = False\n",
    "                while not done:  # 在每个周期中，只要环境没有结束，智能体就会一直执行动作\n",
    "                    action = agent.take_action(state)  # 通过当前策略选择动作\n",
    "                    next_state, reward, done, _, _ = env.step(action)  # 执行动作，并获取下一状态，奖励和是否结束等信息\n",
    "                    transition_dict[\"states\"].append(state)  # 存储状态信息\n",
    "                    transition_dict[\"actions\"].append(action)  # 存储动作信息\n",
    "                    transition_dict[\"next_states\"].append(next_state)  # 存储下一状态信息\n",
    "                    transition_dict[\"rewards\"].append(reward)  # 存储奖励信息\n",
    "                    transition_dict[\"dones\"].append(done)  # 存储是否结束信息\n",
    "                    state = next_state  # 更新状态\n",
    "                    episode_return += reward  # 更新总回报\n",
    "                return_list.append(episode_return)  # 存储该周期的总回报\n",
    "                agent.update(transition_dict)  # 通过学习这个周期的状态，动作和奖励等信息更新策略\n",
    "                if (i_episode + 1) % 10 == 0:  # 每10个周期，输出一次信息\n",
    "                    pbar.set_postfix({\"episode\": \"%d\" % (num_episodes / 10 * i + i_episode + 1),  # 输出当前的周期数\n",
    "                                      \"return\": \"%.3f\" % np.mean(return_list[-10:])})  # 输出最近10个周期的平均总回报\n",
    "                pbar.update(1)  # 更新进度条\n",
    "    return return_list  # 返回所有周期的总回报"
   ],
   "metadata": {
    "collapsed": false
   }
  },
  {
   "cell_type": "code",
   "execution_count": 19,
   "outputs": [],
   "source": [
    "actor_lr = 1e-3  # Actor的学习率\n",
    "critic_lr = 1e-2  # Critic的学习率\n",
    "num_episodes = 300  # 总的周期数\n",
    "hidden_dim = 128  # 隐藏层的维度\n",
    "gamma = 0.98  # 折扣因子\n",
    "lambda_ = 0.95  # PPO的参数\n",
    "epochs = 5  # PPO的参数\n",
    "eps = 0.2  # PPO的参数\n",
    "device = th.device(\"cuda\" if th.cuda.is_available() else \"cpu\")  # 使用的设备\n",
    "\n",
    "env_name = \"CartPole-v1\"    # 环境名称\n",
    "env = gym.make(env_name)    # 创建环境\n",
    "state_dim = env.observation_space.shape[0]  # 状态的维度\n",
    "action_dim = env.action_space.n             # 动作的维度\n",
    "# 实例化智能体\n",
    "agent = PPO(state_dim, hidden_dim, action_dim, actor_lr, critic_lr, lambda_, epochs, eps, gamma, device)"
   ],
   "metadata": {
    "collapsed": false
   }
  },
  {
   "cell_type": "code",
   "execution_count": 20,
   "outputs": [
    {
     "name": "stderr",
     "output_type": "stream",
     "text": [
      "Iteration: 0: 100%|██████████| 30/30 [00:00<00:00, 30.28it/s, episode=30, return=60.900]\n",
      "Iteration: 1: 100%|██████████| 30/30 [00:01<00:00, 17.95it/s, episode=60, return=194.900]\n",
      "Iteration: 2: 100%|██████████| 30/30 [00:03<00:00,  8.74it/s, episode=90, return=258.400]\n",
      "Iteration: 3: 100%|██████████| 30/30 [00:05<00:00,  5.39it/s, episode=120, return=368.700]\n",
      "Iteration: 4: 100%|██████████| 30/30 [00:07<00:00,  4.02it/s, episode=150, return=432.800]\n",
      "Iteration: 5: 100%|██████████| 30/30 [00:24<00:00,  1.24it/s, episode=180, return=1293.100]\n",
      "Iteration: 6: 100%|██████████| 30/30 [01:33<00:00,  3.13s/it, episode=210, return=8455.200]\n",
      "Iteration: 7: 100%|██████████| 30/30 [06:56<00:00, 13.88s/it, episode=240, return=57463.100]\n",
      "Iteration: 8: 100%|██████████| 30/30 [08:55<00:00, 17.84s/it, episode=270, return=21114.200]\n",
      "Iteration: 9: 100%|██████████| 30/30 [18:20<00:00, 36.67s/it, episode=300, return=153866.500]\n"
     ]
    }
   ],
   "source": [
    "return_list = train_on_policy_agent(env, agent, num_episodes)"
   ],
   "metadata": {
    "collapsed": false
   }
  },
  {
   "cell_type": "code",
   "execution_count": 26,
   "outputs": [
    {
     "data": {
      "text/plain": "[16.0,\n 43.0,\n 18.0,\n 55.0,\n 25.0,\n 25.0,\n 42.0,\n 30.0,\n 36.0,\n 14.0,\n 35.0,\n 99.0,\n 62.0,\n 37.0,\n 28.0,\n 67.0,\n 21.0,\n 51.0,\n 21.0,\n 60.0,\n 53.0,\n 84.0,\n 39.0,\n 26.0,\n 64.0,\n 50.0,\n 93.0,\n 108.0,\n 36.0,\n 56.0,\n 32.0,\n 62.0,\n 62.0,\n 55.0,\n 87.0,\n 87.0,\n 71.0,\n 57.0,\n 102.0,\n 68.0,\n 102.0,\n 76.0,\n 80.0,\n 33.0,\n 60.0,\n 54.0,\n 48.0,\n 90.0,\n 62.0,\n 154.0,\n 271.0,\n 199.0,\n 211.0,\n 181.0,\n 155.0,\n 209.0,\n 220.0,\n 194.0,\n 176.0,\n 133.0,\n 238.0,\n 210.0,\n 189.0,\n 166.0,\n 491.0,\n 161.0,\n 72.0,\n 310.0,\n 220.0,\n 244.0,\n 368.0,\n 467.0,\n 249.0,\n 435.0,\n 281.0,\n 382.0,\n 76.0,\n 148.0,\n 200.0,\n 202.0,\n 382.0,\n 168.0,\n 122.0,\n 172.0,\n 360.0,\n 300.0,\n 349.0,\n 242.0,\n 300.0,\n 189.0,\n 398.0,\n 620.0,\n 512.0,\n 313.0,\n 314.0,\n 380.0,\n 367.0,\n 439.0,\n 205.0,\n 221.0,\n 912.0,\n 668.0,\n 446.0,\n 285.0,\n 346.0,\n 302.0,\n 657.0,\n 123.0,\n 588.0,\n 519.0,\n 243.0,\n 582.0,\n 342.0,\n 414.0,\n 244.0,\n 217.0,\n 413.0,\n 276.0,\n 371.0,\n 585.0,\n 242.0,\n 296.0,\n 460.0,\n 348.0,\n 198.0,\n 483.0,\n 1612.0,\n 381.0,\n 928.0,\n 447.0,\n 1083.0,\n 1788.0,\n 1407.0,\n 485.0,\n 318.0,\n 684.0,\n 287.0,\n 350.0,\n 532.0,\n 228.0,\n 256.0,\n 281.0,\n 286.0,\n 325.0,\n 361.0,\n 507.0,\n 551.0,\n 832.0,\n 330.0,\n 599.0,\n 1325.0,\n 2260.0,\n 2976.0,\n 761.0,\n 1322.0,\n 2954.0,\n 1059.0,\n 1642.0,\n 1059.0,\n 2323.0,\n 3371.0,\n 1064.0,\n 1072.0,\n 3404.0,\n 891.0,\n 3925.0,\n 1526.0,\n 2621.0,\n 176.0,\n 2333.0,\n 597.0,\n 562.0,\n 415.0,\n 299.0,\n 610.0,\n 1194.0,\n 920.0,\n 924.0,\n 1055.0,\n 6355.0,\n 1799.0,\n 1352.0,\n 2265.0,\n 322.0,\n 7267.0,\n 3818.0,\n 1292.0,\n 711.0,\n 562.0,\n 938.0,\n 1088.0,\n 2076.0,\n 10805.0,\n 16684.0,\n 3252.0,\n 12888.0,\n 13288.0,\n 4519.0,\n 4049.0,\n 25421.0,\n 662.0,\n 37450.0,\n 1461.0,\n 4378.0,\n 1010.0,\n 4606.0,\n 6745.0,\n 10346.0,\n 2893.0,\n 15001.0,\n 4180.0,\n 13466.0,\n 3839.0,\n 1885.0,\n 5135.0,\n 14227.0,\n 7899.0,\n 5845.0,\n 12522.0,\n 1987.0,\n 12183.0,\n 69590.0,\n 18844.0,\n 9469.0,\n 18393.0,\n 92774.0,\n 103691.0,\n 22596.0,\n 16204.0,\n 9833.0,\n 21564.0,\n 12363.0,\n 5794.0,\n 45967.0,\n 42330.0,\n 115031.0,\n 48821.0,\n 158541.0,\n 106138.0,\n 18082.0,\n 38493.0,\n 238539.0,\n 106109.0,\n 33602.0,\n 55353.0,\n 24081.0,\n 33504.0,\n 36238.0,\n 31655.0,\n 3221.0,\n 28474.0,\n 43349.0,\n 2534.0,\n 9076.0,\n 7027.0,\n 10968.0,\n 26099.0,\n 81136.0,\n 189512.0,\n 1949.0,\n 63388.0,\n 11972.0,\n 6399.0,\n 2836.0,\n 3425.0,\n 6565.0,\n 17404.0,\n 27591.0,\n 37618.0,\n 33944.0,\n 30436.0,\n 158222.0,\n 53475.0,\n 21849.0,\n 14599.0,\n 38082.0,\n 16597.0,\n 92874.0,\n 10203.0,\n 139729.0,\n 54557.0,\n 133426.0,\n 9119.0,\n 72177.0,\n 74349.0,\n 56976.0,\n 59619.0,\n 42110.0,\n 12037.0,\n 97397.0,\n 32262.0,\n 38580.0,\n 92432.0,\n 207701.0,\n 22672.0,\n 34312.0,\n 201606.0,\n 579792.0,\n 2827.0,\n 326481.0]"
     },
     "execution_count": 26,
     "metadata": {},
     "output_type": "execute_result"
    }
   ],
   "source": [
    "return_list"
   ],
   "metadata": {
    "collapsed": false
   }
  },
  {
   "cell_type": "code",
   "execution_count": 24,
   "outputs": [],
   "source": [
    "def moving_average(a, window_size):\n",
    "    # 计算累积和，np.insert用于在数组第一个位置插入0\n",
    "    cumulative_sum = np.cumsum(np.insert(a, 0, 0))\n",
    "    # 计算每个窗口的平均值\n",
    "    middle = (cumulative_sum[window_size:] - cumulative_sum[:-window_size]) / window_size\n",
    "    # 为了处理开始和结束位置不足窗口大小的部分，独立计算它们的平均值\n",
    "    # np.arange(1, window_size - 1, 2) 创建一个从1开始，到window_size - 1为止，步长为2的等差数组\n",
    "    # np.cumsum(a[:window_size - 1])[::2] / r 计算的是开始位置的平均值\n",
    "    r = np.arange(1, window_size - 1, 2)\n",
    "    begin = np.cumsum(a[:window_size - 1])[::2] / r\n",
    "    # np.cumsum(a[:-window_size:-1])[::2] / r 计算的是结束位置的平均值\n",
    "    # [::-1] 是为了将结果翻转，因为我们是从后向前计算的\n",
    "    end = (np.cumsum(a[:-window_size:-1])[::2] / r)[::-1]\n",
    "    # 将开始、中间和结束的部分连接起来，得到最终的滑动平均值\n",
    "    return np.concatenate((begin, middle, end))"
   ],
   "metadata": {
    "collapsed": false
   }
  },
  {
   "cell_type": "code",
   "execution_count": 27,
   "outputs": [
    {
     "data": {
      "text/plain": "<Figure size 640x480 with 1 Axes>",
      "image/png": "[encoded data removed]"
     },
     "metadata": {},
     "output_type": "display_data"
    }
   ],
   "source": [
    "episodes_list = list(range(len(return_list)))\n",
    "mv_return_list = moving_average(return_list, 9)\n",
    "plt.plot(episodes_list, mv_return_list)\n",
    "plt.xlabel(\"Episodes\")\n",
    "plt.ylabel(\"Returns\")\n",
    "plt.title(f\"PPO on {env_name}\")\n",
    "plt.show()"
   ],
   "metadata": {
    "collapsed": false
   }
  },
  {
   "cell_type": "code",
   "execution_count": null,
   "outputs": [],
   "source": [],
   "metadata": {
    "collapsed": false
   }
  }
 ],
 "metadata": {
  "kernelspec": {
   "display_name": "Python 3",
   "language": "python",
   "name": "python3"
  },
  "language_info": {
   "codemirror_mode": {
    "name": "ipython",
    "version": 2
   },
   "file_extension": ".py",
   "mimetype": "text/x-python",
   "name": "python",
   "nbconvert_exporter": "python",
   "pygments_lexer": "ipython2",
   "version": "2.7.6"
  }
 },
 "nbformat": 4,
 "nbformat_minor": 0
}
