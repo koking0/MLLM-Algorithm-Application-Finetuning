{
 "cells": [
  {
   "cell_type": "code",
   "execution_count": 1,
   "metadata": {
    "collapsed": true
   },
   "outputs": [
    {
     "name": "stderr",
     "output_type": "stream",
     "text": [
      "d:\\anaconda3\\lib\\site-packages\\deeplake\\util\\check_latest_version.py:32: UserWarning: A newer version of deeplake (3.7.3) is available. It's recommended that you update to the latest version using `pip install -U deeplake`.\n",
      "  warnings.warn(\n"
     ]
    }
   ],
   "source": [
    "import difflib\n",
    "\n",
    "from langchain.vectorstores import FAISS\n",
    "from langchain.embeddings import HuggingFaceEmbeddings"
   ]
  },
  {
   "cell_type": "code",
   "execution_count": 2,
   "outputs": [],
   "source": [
    "def string_similar(s1, s2):\n",
    "    return difflib.SequenceMatcher(None, s1, s2).quick_ratio()\n"
   ],
   "metadata": {
    "collapsed": false
   }
  },
  {
   "cell_type": "code",
   "execution_count": 3,
   "outputs": [
    {
     "data": {
      "text/plain": "0.5714285714285714"
     },
     "execution_count": 3,
     "metadata": {},
     "output_type": "execute_result"
    }
   ],
   "source": [
    "string_similar(\"总负债\", \"负债合计\")\n"
   ],
   "metadata": {
    "collapsed": false
   }
  },
  {
   "cell_type": "code",
   "execution_count": 4,
   "outputs": [
    {
     "data": {
      "text/plain": "0.5714285714285714"
     },
     "execution_count": 4,
     "metadata": {},
     "output_type": "execute_result"
    }
   ],
   "source": [
    "string_similar(\"总负债\", \"合同负债\")\n"
   ],
   "metadata": {
    "collapsed": false
   }
  },
  {
   "cell_type": "code",
   "execution_count": 15,
   "outputs": [
    {
     "data": {
      "text/plain": "Downloading (…)86adb/.gitattributes:   0%|          | 0.00/1.18k [00:00<?, ?B/s]",
      "application/vnd.jupyter.widget-view+json": {
       "version_major": 2,
       "version_minor": 0,
       "model_id": "4ea5f9c1df4143c39c8ffe3857e62d40"
      }
     },
     "metadata": {},
     "output_type": "display_data"
    },
    {
     "data": {
      "text/plain": "Downloading (…)_Pooling/config.json:   0%|          | 0.00/74.0 [00:00<?, ?B/s]",
      "application/vnd.jupyter.widget-view+json": {
       "version_major": 2,
       "version_minor": 0,
       "model_id": "013046c172254038bea8c93c9c6c9407"
      }
     },
     "metadata": {},
     "output_type": "display_data"
    },
    {
     "data": {
      "text/plain": "Downloading (…)8b55f86adb/README.md:   0%|          | 0.00/10.1k [00:00<?, ?B/s]",
      "application/vnd.jupyter.widget-view+json": {
       "version_major": 2,
       "version_minor": 0,
       "model_id": "60781bdfdd1f48a4a45ec424c7f6a6c8"
      }
     },
     "metadata": {},
     "output_type": "display_data"
    },
    {
     "data": {
      "text/plain": "Downloading (…)55f86adb/config.json:   0%|          | 0.00/856 [00:00<?, ?B/s]",
      "application/vnd.jupyter.widget-view+json": {
       "version_major": 2,
       "version_minor": 0,
       "model_id": "04e04a94594d4f4eaf8157c9b8bc2d8e"
      }
     },
     "metadata": {},
     "output_type": "display_data"
    },
    {
     "data": {
      "text/plain": "Downloading (…)98b55f86adb/logs.txt:   0%|          | 0.00/546 [00:00<?, ?B/s]",
      "application/vnd.jupyter.widget-view+json": {
       "version_major": 2,
       "version_minor": 0,
       "model_id": "d250421d79cb4e21859da187170455bc"
      }
     },
     "metadata": {},
     "output_type": "display_data"
    },
    {
     "data": {
      "text/plain": "Downloading (…)adb/onnx/config.json:   0%|          | 0.00/836 [00:00<?, ?B/s]",
      "application/vnd.jupyter.widget-view+json": {
       "version_major": 2,
       "version_minor": 0,
       "model_id": "d2622fe6c95443148acb0728b9a508d2"
      }
     },
     "metadata": {},
     "output_type": "display_data"
    },
    {
     "data": {
      "text/plain": "Downloading model.onnx:   0%|          | 0.00/407M [00:00<?, ?B/s]",
      "application/vnd.jupyter.widget-view+json": {
       "version_major": 2,
       "version_minor": 0,
       "model_id": "a8af202e57ee4cb0b93a65d0fedbed99"
      }
     },
     "metadata": {},
     "output_type": "display_data"
    },
    {
     "data": {
      "text/plain": "Downloading (…)cial_tokens_map.json:   0%|          | 0.00/125 [00:00<?, ?B/s]",
      "application/vnd.jupyter.widget-view+json": {
       "version_major": 2,
       "version_minor": 0,
       "model_id": "993e27597c824c6396de6c6ef98ec8ef"
      }
     },
     "metadata": {},
     "output_type": "display_data"
    },
    {
     "data": {
      "text/plain": "Downloading (…)/onnx/tokenizer.json:   0%|          | 0.00/439k [00:00<?, ?B/s]",
      "application/vnd.jupyter.widget-view+json": {
       "version_major": 2,
       "version_minor": 0,
       "model_id": "65455fe5db164d1d86dce209f5d25578"
      }
     },
     "metadata": {},
     "output_type": "display_data"
    },
    {
     "data": {
      "text/plain": "Downloading (…)okenizer_config.json:   0%|          | 0.00/394 [00:00<?, ?B/s]",
      "application/vnd.jupyter.widget-view+json": {
       "version_major": 2,
       "version_minor": 0,
       "model_id": "1f48a0c7c7e445fab4d2f3811a6b2f49"
      }
     },
     "metadata": {},
     "output_type": "display_data"
    },
    {
     "data": {
      "text/plain": "Downloading (…)86adb/onnx/vocab.txt:   0%|          | 0.00/110k [00:00<?, ?B/s]",
      "application/vnd.jupyter.widget-view+json": {
       "version_major": 2,
       "version_minor": 0,
       "model_id": "1fa492e99c364950aafa5ba4b664e9f0"
      }
     },
     "metadata": {},
     "output_type": "display_data"
    },
    {
     "data": {
      "text/plain": "Downloading pytorch_model.bin:   0%|          | 0.00/409M [00:00<?, ?B/s]",
      "application/vnd.jupyter.widget-view+json": {
       "version_major": 2,
       "version_minor": 0,
       "model_id": "8724279fd8244745bf6905ad14dd8d58"
      }
     },
     "metadata": {},
     "output_type": "display_data"
    },
    {
     "data": {
      "text/plain": "Downloading (…)nce_bert_config.json:   0%|          | 0.00/54.0 [00:00<?, ?B/s]",
      "application/vnd.jupyter.widget-view+json": {
       "version_major": 2,
       "version_minor": 0,
       "model_id": "9dd783907c32459a90d49323a7d3b753"
      }
     },
     "metadata": {},
     "output_type": "display_data"
    },
    {
     "data": {
      "text/plain": "Downloading (…)cial_tokens_map.json:   0%|          | 0.00/112 [00:00<?, ?B/s]",
      "application/vnd.jupyter.widget-view+json": {
       "version_major": 2,
       "version_minor": 0,
       "model_id": "550d8811f4744e9dba02f44e896271ce"
      }
     },
     "metadata": {},
     "output_type": "display_data"
    },
    {
     "data": {
      "text/plain": "Downloading (…)okenizer_config.json:   0%|          | 0.00/319 [00:00<?, ?B/s]",
      "application/vnd.jupyter.widget-view+json": {
       "version_major": 2,
       "version_minor": 0,
       "model_id": "4ffcab3638684d5f9e2df8c7771d6207"
      }
     },
     "metadata": {},
     "output_type": "display_data"
    },
    {
     "data": {
      "text/plain": "Downloading (…)8b55f86adb/vocab.txt:   0%|          | 0.00/110k [00:00<?, ?B/s]",
      "application/vnd.jupyter.widget-view+json": {
       "version_major": 2,
       "version_minor": 0,
       "model_id": "271e8f2cf71d48bd8b921253739f7814"
      }
     },
     "metadata": {},
     "output_type": "display_data"
    },
    {
     "data": {
      "text/plain": "Downloading (…)5f86adb/modules.json:   0%|          | 0.00/230 [00:00<?, ?B/s]",
      "application/vnd.jupyter.widget-view+json": {
       "version_major": 2,
       "version_minor": 0,
       "model_id": "4ec419589a974d8db884ae06a94d2703"
      }
     },
     "metadata": {},
     "output_type": "display_data"
    }
   ],
   "source": [
    "embeddings = HuggingFaceEmbeddings(model_name=\"shibing624/text2vec-base-chinese\")\n"
   ],
   "metadata": {
    "collapsed": false
   }
  },
  {
   "cell_type": "code",
   "execution_count": 16,
   "outputs": [],
   "source": [
    "item_list = [\n",
    "        \"货币资金\", \"结算备付金\", \"拆出资金\", \"交易性金融资产\", \"以公允价值计量且其变动计入当期损益的金融资产\",\n",
    "        \"衍生金融资产\", \"应收票据\", \"应收账款\", \"应收款项融资\", \"预付款项\", \"应收保费\", \"应收分保账款\",\n",
    "        \"应收分保合同准备金\", \"其他应收款\", \"应收利息\", \"应收股利\", \"买入返售金融资产\", \"存货\", \"合同资产\",\n",
    "        \"持有待售资产\", \"一年内到期的非流动资产\", \"其他流动资产\", \"流动资产合计\", \"发放贷款和垫款\", \"债权投资\",\n",
    "        \"可供出售金融资产\", \"其他债权投资\", \"持有至到期投资\", \"长期应收款\", \"长期股权投资\", \"其他权益工具投资\",\n",
    "        \"其他非流动金融资产\", \"投资性房地产\", \"固定资产\", \"在建工程\", \"生产性生物资产\", \"油气资产\", \"使用权资产\",\n",
    "        \"无形资产\", \"开发支出\", \"商誉\", \"长期待摊费用\", \"递延所得税资产\", \"其他非流动资产\", \"非流动资产合计\",\n",
    "        \"资产总计\", \"短期借款\", \"向中央银行借款\", \"拆入资金\", \"交易性金融负债\",\n",
    "        \"以公允价值计量且其变动计入当期损益的金融负债\", \"衍生金融负债\", \"应付票据\",\n",
    "        \"应付账款\", \"预收款项\", \"合同负债\", \"卖出回购金融资产款\", \"吸收存款及同业存放\", \"代理买卖证券款\",\n",
    "        \"代理承销证券款\", \"应付职工薪酬\", \"应交税费\", \"其他应付款\", \"应付利息\", \"应付股利\", \"应付手续费及佣金\",\n",
    "        \"应付分保账款\", \"持有待售负债\", \"一年内到期的非流动负债\", \"其他流动负债\", \"流动负债合计\", \"保险合同准备金\",\n",
    "        \"长期借款\", \"应付债券\", \"租赁负债\", \"长期应付款\", \"长期应付职工薪酬\", \"预计负债\", \"递延收益\", \"递延所得税负债\",\n",
    "        \"其他非流动负债\", \"非流动负债合计\", \"负债合计\", \"股本\", \"实收资本\", \"其他权益工具\", \"资本公积\", \"库存股\",\n",
    "        \"其他综合收益\", \"专项储备\", \"盈余公积\", \"一般风险准备\", \"未分配利润\", \"归属于母公司所有者权益合计\",\n",
    "        \"少数股东权益\", \"所有者权益合计\", \"负债和所有者权益总计\", \"营业总收入\", \"营业收入\", \"利息收入\", \"已赚保费\",\n",
    "        \"手续费及佣金收入\", \"营业总成本\", \"营业成本\", \"利息支出\", \"手续费及佣金支出\", \"退保金\", \"赔付支出净额\",\n",
    "        \"提取保险责任合同准备金净额\", \"保单红利支出\", \"分保费用\", \"税金及附加\", \"销售费用\", \"管理费用\", \"研发费用\",\n",
    "        \"财务费用\", \"利息费用\", \"其他收益\", \"投资收益\", \"对联营企业和合营企业的投资收益\",\n",
    "        \"以摊余成本计量的金融资产终止确认收益\", \"汇兑收益\", \"净敞口套期收益\", \"公允价值变动收益\", \"信用减值损失\",\n",
    "        \"资产减值损失\", \"资产处置收益\", \"营业利润\", \"营业外收入\", \"营业外支出\", \"利润总额\", \"所得税费用\", \"净利润\",\n",
    "        \"按经营持续性分类\", \"持续经营净利润\", \"终止经营净利润\", \"按所有权归属分类\", \"归属于母公司所有者的净利润\",\n",
    "        \"少数股东损益\", \"其他综合收益的税后净额\", \"归属母公司所有者的其他综合收益的税后净额\",\n",
    "        \"不能重分类进损益的其他综合收益\", \"重新计量设定受益计划变动额\", \"权益法下不能转损益的其他综合收益\",\n",
    "        \"其他权益工具投资公允价值变动\", \"企业自身信用风险公允价值变动\", \"其他\", \"将重分类进损益的其他综合收益\",\n",
    "        \"权益法下可转损益的其他综合收益\", \"其他债权投资公允价值变动\", \"可供出售金融资产公允价值变动损益\",\n",
    "        \"金融资产重分类计入其他综合收益的金额\", \"持有至到期投资重分类为可供出售金融资产损益\",\n",
    "        \"其他债权投资信用减值准备\", \"现金流量套期储备\", \"外币财务报表折算差额\",\n",
    "        \"归属于少数股东的其他综合收益的税后净额\", \"综合收益总额\", \"归属于母公司所有者的综合收益总额\",\n",
    "        \"归属于少数股东的综合收益总额\", \"基本每股收益\", \"稀释每股收益\", \"销售商品、提供劳务收到的现金\",\n",
    "        \"客户存款和同业存放款项净增加额\", \"向中央银行借款净增加额\", \"向其他金融机构拆入资金净增加额\",\n",
    "        \"收到原保险合同保费取得的现金\", \"收到再保业务现金净额\", \"保户储金及投资款净增加额\",\n",
    "        \"收取利息、手续费及佣金的现金\", \"拆入资金净增加额\", \"回购业务资金净增加额\",\n",
    "        \"代理买卖证券收到的现金净额\", \"收到的税费返还\", \"收到其他与经营活动有关的现金\", \"经营活动现金流入小计\",\n",
    "        \"购买商品、接受劳务支付的现金\", \"客户贷款及垫款净增加额\", \"存放中央银行和同业款项净增加额\",\n",
    "        \"支付原保险合同赔付款项的现金\", \"拆出资金净增加额\", \"支付利息、手续费及佣金的现金\", \"支付保单红利的现金\",\n",
    "        \"支付给职工以及为职工支付的现金\", \"支付的各项税费\", \"支付其他与经营活动有关的现金\", \"经营活动现金流出小计\",\n",
    "        \"经营活动产生的现金流量净额\", \"收回投资收到的现金\", \"取得投资收益收到的现金\",\n",
    "        \"处置固定资产、无形资产和其他长期资产收回的现金净额\", \"处置子公司及其他营业单位收到的现金净额\",\n",
    "        \"收到其他与投资活动有关的现金\", \"投资活动现金流入小计\", \"购建固定资产、无形资产和其他长期资产支付的现金\",\n",
    "        \"投资支付的现金\", \"质押贷款净增加额\", \"取得子公司及其他营业单位支付的现金净额\", \"支付其他与投资活动有关的现金\",\n",
    "        \"投资活动现金流出小计\", \"投资活动产生的现金流量净额\", \"吸收投资收到的现金\", \"子公司吸收少数股东投资收到的现金\",\n",
    "        \"取得借款收到的现金\", \"收到其他与筹资活动有关的现金\", \"筹资活动现金流入小计\", \"偿还债务支付的现金\",\n",
    "        \"分配股利、利润或偿付利息支付的现金\", \"子公司支付给少数股东的股利、利润\", \"支付其他与筹资活动有关的现金\",\n",
    "        \"筹资活动现金流出小计\", \"筹资活动产生的现金流量净额\", \"汇率变动对现金及现金等价物的影响\",\n",
    "        \"现金及现金等价物净增加额\", \"期初现金及现金等价物余额\", \"期末现金及现金等价物余额\"]\n"
   ],
   "metadata": {
    "collapsed": false
   }
  },
  {
   "cell_type": "code",
   "execution_count": 17,
   "outputs": [],
   "source": [
    "vectorstore = FAISS.from_texts(item_list, embeddings)"
   ],
   "metadata": {
    "collapsed": false
   }
  },
  {
   "cell_type": "code",
   "execution_count": 18,
   "outputs": [
    {
     "name": "stdout",
     "output_type": "stream",
     "text": [
      "Content: 负债合计, Score: 106.41322326660156\n",
      "Content: 预计负债, Score: 108.23805236816406\n",
      "Content: 负债和所有者权益总计, Score: 147.6588897705078\n",
      "Content: 合同负债, Score: 158.93890380859375\n"
     ]
    }
   ],
   "source": [
    "results_with_scores = vectorstore.similarity_search_with_score(\"总负债\")\n",
    "for doc, score in results_with_scores:\n",
    "    print(f\"Content: {doc.page_content}, Score: {score}\")\n"
   ],
   "metadata": {
    "collapsed": false
   }
  },
  {
   "cell_type": "code",
   "execution_count": 20,
   "outputs": [
    {
     "name": "stdout",
     "output_type": "stream",
     "text": [
      "Content: 资产总计, Score: 48.81259536743164\n",
      "Content: 流动资产合计, Score: 169.9564208984375\n",
      "Content: 非流动资产合计, Score: 186.27127075195312\n",
      "Content: 负债和所有者权益总计, Score: 191.26580810546875\n"
     ]
    }
   ],
   "source": [
    "results_with_scores = vectorstore.similarity_search_with_score(\"资产总额\")\n",
    "for doc, score in results_with_scores:\n",
    "    print(f\"Content: {doc.page_content}, Score: {score}\")\n"
   ],
   "metadata": {
    "collapsed": false
   }
  },
  {
   "cell_type": "code",
   "execution_count": null,
   "outputs": [],
   "source": [],
   "metadata": {
    "collapsed": false
   }
  }
 ],
 "metadata": {
  "kernelspec": {
   "display_name": "Python 3",
   "language": "python",
   "name": "python3"
  },
  "language_info": {
   "codemirror_mode": {
    "name": "ipython",
    "version": 2
   },
   "file_extension": ".py",
   "mimetype": "text/x-python",
   "name": "python",
   "nbconvert_exporter": "python",
   "pygments_lexer": "ipython2",
   "version": "2.7.6"
  }
 },
 "nbformat": 4,
 "nbformat_minor": 0
}
