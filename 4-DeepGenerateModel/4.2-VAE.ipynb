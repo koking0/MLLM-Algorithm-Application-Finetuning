{
 "cells": [
  {
   "cell_type": "code",
   "execution_count": 1,
   "metadata": {
    "collapsed": false
   },
   "outputs": [],
   "source": [
    "import torch as th\n",
    "import torch.nn as nn\n",
    "import torch.nn.functional as F\n",
    "import torchvision\n",
    "from torchvision.transforms import transforms"
   ]
  },
  {
   "cell_type": "code",
   "execution_count": 2,
   "outputs": [],
   "source": [
    "class VAEModel(nn.Module):\n",
    "    def __init__(self, latent_dim=20):\n",
    "        super(VAEModel, self).__init__()\n",
    "        self.encoder = nn.Linear(784, 400)\n",
    "        self.fc_mu = nn.Linear(400, latent_dim)\n",
    "        self.fc_var = nn.Linear(400, latent_dim)\n",
    "        self.fc_decode = nn.Linear(latent_dim, 400)\n",
    "        self.decoder = nn.Linear(400, 784)\n",
    "\n",
    "    def encode(self, x):\n",
    "        x = F.relu(self.encoder(x))\n",
    "        return self.fc_mu(x), self.fc_var(x)\n",
    "\n",
    "    def reparameterize(self, mu, log_var):\n",
    "        std = 0.5 * th.exp(log_var)\n",
    "        eps = th.randn_like(std)\n",
    "        return mu + eps * std\n",
    "\n",
    "    def decode(self, z):\n",
    "        x = F.relu(self.fc_decode(z))\n",
    "        return th.sigmoid(self.decoder(x))\n",
    "\n",
    "    def forward(self, x):\n",
    "        mu, log_var = self.encode(x)\n",
    "        z = self.reparameterize(mu, log_var)\n",
    "        return self.decode(z), mu, log_var\n"
   ],
   "metadata": {
    "collapsed": false
   }
  },
  {
   "cell_type": "code",
   "execution_count": 3,
   "outputs": [],
   "source": [
    "def vae_loss(reconstructed, original, mu, log_var):\n",
    "    recon_loss = F.binary_cross_entropy(reconstructed, original, reduction=\"sum\")\n",
    "    kl_divergence = -0.5 * th.sum(1 + log_var - mu.pow(2) - log_var.exp())\n",
    "    return recon_loss + kl_divergence"
   ],
   "metadata": {
    "collapsed": false
   }
  },
  {
   "cell_type": "code",
   "execution_count": 4,
   "outputs": [],
   "source": [
    "# 加载和预处理MNIST数据集\n",
    "transform = transforms.Compose([\n",
    "    transforms.ToTensor(),\n",
    "    transforms.Normalize([0.5], [0.5]),\n",
    "])\n",
    "train_dataset = torchvision.datasets.MNIST(root=\"./data\", train=True, transform=transform, download=True)\n",
    "train_loader = th.utils.data.DataLoader(train_dataset, batch_size=128, shuffle=True)\n",
    "device = th.device(\"cuda\" if th.cuda.is_available() else \"cpu\")\n",
    "vae_model = VAEModel().to(device)\n",
    "optimizer = th.optim.Adam(vae_model.parameters(), lr=0.0003)\n",
    "num_epochs = 50"
   ],
   "metadata": {
    "collapsed": false
   }
  },
  {
   "cell_type": "code",
   "execution_count": 5,
   "outputs": [
    {
     "name": "stdout",
     "output_type": "stream",
     "text": [
      "Epoch [1/50], Loss: -4461207.7754\n",
      "Epoch [2/50], Loss: -3551884.2319\n",
      "Epoch [3/50], Loss: -3514294.9270\n",
      "Epoch [4/50], Loss: -4161113.7052\n",
      "Epoch [5/50], Loss: -4658927.0101\n",
      "Epoch [6/50], Loss: -5134707.7687\n",
      "Epoch [7/50], Loss: -5469395.6802\n",
      "Epoch [8/50], Loss: -5809885.3625\n",
      "Epoch [9/50], Loss: -6070619.5405\n",
      "Epoch [10/50], Loss: -6274602.3465\n",
      "Epoch [11/50], Loss: -6455915.3571\n",
      "Epoch [12/50], Loss: -6621626.4947\n",
      "Epoch [13/50], Loss: -6766440.0011\n",
      "Epoch [14/50], Loss: -6866472.2836\n",
      "Epoch [15/50], Loss: -6957155.4190\n",
      "Epoch [16/50], Loss: -7060023.2345\n",
      "Epoch [17/50], Loss: -7143745.1748\n",
      "Epoch [18/50], Loss: -7214006.5096\n",
      "Epoch [19/50], Loss: -7264378.9829\n",
      "Epoch [20/50], Loss: -7307377.3710\n",
      "Epoch [21/50], Loss: -7359690.3817\n",
      "Epoch [22/50], Loss: -7395993.4286\n",
      "Epoch [23/50], Loss: -7425439.6333\n",
      "Epoch [24/50], Loss: -7456723.8028\n",
      "Epoch [25/50], Loss: -7484921.7932\n",
      "Epoch [26/50], Loss: -7499168.5021\n",
      "Epoch [27/50], Loss: -7526620.4648\n",
      "Epoch [28/50], Loss: -7542996.9776\n",
      "Epoch [29/50], Loss: -7566512.2186\n",
      "Epoch [30/50], Loss: -7589699.4563\n",
      "Epoch [31/50], Loss: -7601481.7015\n",
      "Epoch [32/50], Loss: -7611367.5896\n",
      "Epoch [33/50], Loss: -7625805.2217\n",
      "Epoch [34/50], Loss: -7638951.4947\n",
      "Epoch [35/50], Loss: -7648655.0309\n",
      "Epoch [36/50], Loss: -7659006.1908\n",
      "Epoch [37/50], Loss: -7672448.3657\n",
      "Epoch [38/50], Loss: -7685919.0917\n",
      "Epoch [39/50], Loss: -7692090.1908\n",
      "Epoch [40/50], Loss: -7702247.3070\n",
      "Epoch [41/50], Loss: -7709277.9840\n",
      "Epoch [42/50], Loss: -7721088.7857\n",
      "Epoch [43/50], Loss: -7728747.0949\n",
      "Epoch [44/50], Loss: -7732194.7676\n",
      "Epoch [45/50], Loss: -7737758.0043\n",
      "Epoch [46/50], Loss: -7744090.7207\n",
      "Epoch [47/50], Loss: -7750360.3273\n",
      "Epoch [48/50], Loss: -7755591.0384\n",
      "Epoch [49/50], Loss: -7760353.7441\n",
      "Epoch [50/50], Loss: -7765254.3657\n"
     ]
    }
   ],
   "source": [
    "vae_model.train()\n",
    "for epoch in range(num_epochs):\n",
    "    running_loss = 0.0\n",
    "    for images, _ in train_loader:\n",
    "        images = th.flatten(images, start_dim=1).to(device)\n",
    "        reconstructed_images, mu, log_var = vae_model(images)\n",
    "        loss = vae_loss(reconstructed_images, images, mu, log_var)\n",
    "        optimizer.zero_grad()\n",
    "        loss.backward()\n",
    "        optimizer.step()\n",
    "        running_loss += loss.item()\n",
    "\n",
    "    epoch_loss = running_loss / len(train_loader)\n",
    "    print(f\"Epoch [{epoch+1}/{num_epochs}], Loss: {epoch_loss:.4f}\")"
   ],
   "metadata": {
    "collapsed": false
   }
  },
  {
   "cell_type": "code",
   "execution_count": 6,
   "outputs": [
    {
     "data": {
      "text/plain": "<Figure size 640x480 with 1 Axes>",
      "image/png": "[encoded data removed]"
     },
     "metadata": {},
     "output_type": "display_data"
    }
   ],
   "source": [
    "from matplotlib import pyplot as plt\n",
    "\n",
    "image = images[14].view(1, 28, 28).cpu().numpy()\n",
    "image = image.squeeze()\n",
    "plt.imshow(image, cmap=\"gray\")\n",
    "plt.show()\n"
   ],
   "metadata": {
    "collapsed": false
   }
  },
  {
   "cell_type": "code",
   "execution_count": 7,
   "outputs": [],
   "source": [
    "from torchvision.utils import save_image\n"
   ],
   "metadata": {
    "collapsed": false
   }
  },
  {
   "cell_type": "code",
   "execution_count": 8,
   "outputs": [],
   "source": [
    "save_image(images.view(-1, 1, 28, 28), \"images.png\")\n",
    "save_image(reconstructed_images.view(-1, 1, 28, 28), \"reconstructed_images.png\")\n"
   ],
   "metadata": {
    "collapsed": false
   }
  },
  {
   "cell_type": "code",
   "execution_count": 9,
   "outputs": [
    {
     "data": {
      "text/plain": "<Figure size 640x480 with 1 Axes>",
      "image/png": "[encoded data removed]"
     },
     "metadata": {},
     "output_type": "display_data"
    }
   ],
   "source": [
    "image = reconstructed_images[14].view(1, 28, 28).cpu().detach().numpy()\n",
    "image = image.squeeze()\n",
    "plt.imshow(image, cmap=\"gray\")\n",
    "plt.show()\n"
   ],
   "metadata": {
    "collapsed": false
   }
  },
  {
   "cell_type": "code",
   "execution_count": 9,
   "outputs": [],
   "source": [],
   "metadata": {
    "collapsed": false
   }
  }
 ],
 "metadata": {
  "kernelspec": {
   "display_name": "Python 3",
   "language": "python",
   "name": "python3"
  },
  "language_info": {
   "codemirror_mode": {
    "name": "ipython",
    "version": 3
   },
   "file_extension": ".py",
   "mimetype": "text/x-python",
   "name": "python",
   "nbconvert_exporter": "python",
   "pygments_lexer": "ipython3",
   "version": "3.10.12"
  }
 },
 "nbformat": 4,
 "nbformat_minor": 0
}
