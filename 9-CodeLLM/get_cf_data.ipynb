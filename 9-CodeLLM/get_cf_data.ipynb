{
 "cells": [
  {
   "cell_type": "code",
   "execution_count": 1,
   "metadata": {
    "collapsed": true
   },
   "outputs": [],
   "source": [
    "import os\n",
    "import json\n",
    "import time\n",
    "import bs4\n",
    "import requests"
   ]
  },
  {
   "cell_type": "markdown",
   "source": [
    "获取所有的问题列表"
   ],
   "metadata": {
    "collapsed": false
   }
  },
  {
   "cell_type": "code",
   "execution_count": 2,
   "outputs": [],
   "source": [
    "def get_problem_set():\n",
    "    response = requests.get(\"https://codeforces.com/api/problemset.problems\")\n",
    "    return response.json()"
   ],
   "metadata": {
    "collapsed": false
   }
  },
  {
   "cell_type": "code",
   "execution_count": 3,
   "outputs": [],
   "source": [
    "problem_set = get_problem_set()"
   ],
   "metadata": {
    "collapsed": false
   }
  },
  {
   "cell_type": "code",
   "execution_count": 4,
   "outputs": [
    {
     "name": "stdout",
     "output_type": "stream",
     "text": [
      "总问题数：8989\n"
     ]
    }
   ],
   "source": [
    "print(f\"总问题数：{len(problem_set['result']['problems'])}\")"
   ],
   "metadata": {
    "collapsed": false
   }
  },
  {
   "cell_type": "code",
   "execution_count": 5,
   "outputs": [
    {
     "data": {
      "text/plain": "{'contestId': 1886,\n 'index': 'F',\n 'name': 'Diamond Theft',\n 'type': 'PROGRAMMING',\n 'tags': ['data structures', 'greedy']}"
     },
     "execution_count": 5,
     "metadata": {},
     "output_type": "execute_result"
    }
   ],
   "source": [
    "problem_set[\"result\"][\"problems\"][0]"
   ],
   "metadata": {
    "collapsed": false
   }
  },
  {
   "cell_type": "code",
   "execution_count": 6,
   "outputs": [],
   "source": [
    "tag_set = set()\n",
    "for problem in problem_set[\"result\"][\"problems\"]:\n",
    "    for tag in problem[\"tags\"]:\n",
    "        tag_set.add(tag)"
   ],
   "metadata": {
    "collapsed": false
   }
  },
  {
   "cell_type": "code",
   "execution_count": 7,
   "outputs": [
    {
     "data": {
      "text/plain": "{'*special',\n '2-sat',\n 'binary search',\n 'bitmasks',\n 'brute force',\n 'chinese remainder theorem',\n 'combinatorics',\n 'constructive algorithms',\n 'data structures',\n 'dfs and similar',\n 'divide and conquer',\n 'dp',\n 'dsu',\n 'expression parsing',\n 'fft',\n 'flows',\n 'games',\n 'geometry',\n 'graph matchings',\n 'graphs',\n 'greedy',\n 'hashing',\n 'implementation',\n 'interactive',\n 'math',\n 'matrices',\n 'meet-in-the-middle',\n 'number theory',\n 'probabilities',\n 'schedules',\n 'shortest paths',\n 'sortings',\n 'string suffix structures',\n 'strings',\n 'ternary search',\n 'trees',\n 'two pointers'}"
     },
     "execution_count": 7,
     "metadata": {},
     "output_type": "execute_result"
    }
   ],
   "source": [
    "tag_set"
   ],
   "metadata": {
    "collapsed": false
   }
  },
  {
   "cell_type": "code",
   "execution_count": 6,
   "outputs": [],
   "source": [
    "dataset_dir = \"D:\\Code\\DataSet\\CodeForceDataSet-raw\""
   ],
   "metadata": {
    "collapsed": false
   }
  },
  {
   "cell_type": "markdown",
   "source": [
    "获取所有的比赛列表"
   ],
   "metadata": {
    "collapsed": false
   }
  },
  {
   "cell_type": "code",
   "execution_count": 7,
   "outputs": [],
   "source": [
    "contest_list_response = requests.get(\"https://codeforces.com/api/contest.list\").json()\n",
    "contest_list = contest_list_response[\"result\"]"
   ],
   "metadata": {
    "collapsed": false
   }
  },
  {
   "cell_type": "code",
   "execution_count": 8,
   "outputs": [
    {
     "data": {
      "text/plain": "1796"
     },
     "execution_count": 8,
     "metadata": {},
     "output_type": "execute_result"
    }
   ],
   "source": [
    "len(contest_list)"
   ],
   "metadata": {
    "collapsed": false
   }
  },
  {
   "cell_type": "code",
   "execution_count": 9,
   "outputs": [
    {
     "data": {
      "text/plain": "{'id': 1791,\n 'name': 'Codeforces Round 849 (Div. 4)',\n 'type': 'ICPC',\n 'phase': 'FINISHED',\n 'frozen': False,\n 'durationSeconds': 8700,\n 'startTimeSeconds': 1675434900,\n 'relativeTimeSeconds': 21814452}"
     },
     "execution_count": 9,
     "metadata": {},
     "output_type": "execute_result"
    }
   ],
   "source": [
    "contest_list[100]"
   ],
   "metadata": {
    "collapsed": false
   }
  },
  {
   "cell_type": "markdown",
   "source": [
    "只保存已经结束的比赛"
   ],
   "metadata": {
    "collapsed": false
   }
  },
  {
   "cell_type": "code",
   "execution_count": 42,
   "outputs": [],
   "source": [
    "for contest in contest_list:\n",
    "    if contest[\"phase\"] == \"FINISHED\":\n",
    "        contest_dir = os.path.join(dataset_dir, str(contest[\"id\"]))\n",
    "        os.makedirs(contest_dir, exist_ok=True)"
   ],
   "metadata": {
    "collapsed": false
   }
  },
  {
   "cell_type": "markdown",
   "source": [
    "获取某个比赛的提交情况"
   ],
   "metadata": {
    "collapsed": false
   }
  },
  {
   "cell_type": "code",
   "execution_count": 10,
   "outputs": [],
   "source": [
    "contest_id = 1800"
   ],
   "metadata": {
    "collapsed": false
   }
  },
  {
   "cell_type": "code",
   "execution_count": 11,
   "outputs": [],
   "source": [
    "contest_status_response = requests.get(f\"https://codeforces.com/api/contest.status?contestId={contest_id}\").json()"
   ],
   "metadata": {
    "collapsed": false
   }
  },
  {
   "cell_type": "code",
   "execution_count": 12,
   "outputs": [],
   "source": [
    "contest_status_list = contest_status_response[\"result\"]"
   ],
   "metadata": {
    "collapsed": false
   }
  },
  {
   "cell_type": "code",
   "execution_count": 13,
   "outputs": [
    {
     "data": {
      "text/plain": "292930"
     },
     "execution_count": 13,
     "metadata": {},
     "output_type": "execute_result"
    }
   ],
   "source": [
    "len(contest_status_list)"
   ],
   "metadata": {
    "collapsed": false
   }
  },
  {
   "cell_type": "code",
   "execution_count": 14,
   "outputs": [
    {
     "data": {
      "text/plain": "{'id': 221039648,\n 'contestId': 1800,\n 'creationTimeSeconds': 1693368652,\n 'relativeTimeSeconds': 2147483647,\n 'problem': {'contestId': 1800,\n  'index': 'A',\n  'name': 'Is It a Cat?',\n  'type': 'PROGRAMMING',\n  'rating': 800,\n  'tags': ['implementation', 'strings']},\n 'author': {'contestId': 1800,\n  'members': [{'handle': 'nvqminh301207'}],\n  'participantType': 'PRACTICE',\n  'ghost': False,\n  'startTimeSeconds': 1677767700},\n 'programmingLanguage': 'GNU C++14',\n 'verdict': 'WRONG_ANSWER',\n 'testset': 'TESTS',\n 'passedTestCount': 1,\n 'timeConsumedMillis': 61,\n 'memoryConsumedBytes': 0}"
     },
     "execution_count": 14,
     "metadata": {},
     "output_type": "execute_result"
    }
   ],
   "source": [
    "contest_status_list[10000]"
   ],
   "metadata": {
    "collapsed": false
   }
  },
  {
   "cell_type": "markdown",
   "source": [
    "获取该场比赛所有提交记录中使用过的编程语言"
   ],
   "metadata": {
    "collapsed": false
   }
  },
  {
   "cell_type": "code",
   "execution_count": 15,
   "outputs": [],
   "source": [
    "programming_language_set = set()\n",
    "\n",
    "for submission in contest_status_list:\n",
    "    programming_language_set.add(submission[\"programmingLanguage\"])"
   ],
   "metadata": {
    "collapsed": false
   }
  },
  {
   "cell_type": "code",
   "execution_count": 16,
   "outputs": [
    {
     "data": {
      "text/plain": "{'C# 10',\n 'C# 8',\n 'Clang++17 Diagnostics',\n 'Clang++20 Diagnostics',\n 'D',\n 'Delphi',\n 'FPC',\n 'GNU C++14',\n 'GNU C++17',\n 'GNU C++17 (64)',\n 'GNU C++20 (64)',\n 'GNU C11',\n 'Go',\n 'Haskell',\n 'Java 11',\n 'Java 17',\n 'Java 21',\n 'Java 8',\n 'JavaScript',\n 'Kotlin 1.6',\n 'Kotlin 1.7',\n 'MS C++ 2017',\n 'Mono C#',\n 'Node.js',\n 'Ocaml',\n 'PHP',\n 'PascalABC.NET',\n 'Perl',\n 'PyPy 2',\n 'PyPy 3',\n 'PyPy 3-64',\n 'Python 2',\n 'Python 3',\n 'Ruby 3',\n 'Rust 2021',\n 'Scala'}"
     },
     "execution_count": 16,
     "metadata": {},
     "output_type": "execute_result"
    }
   ],
   "source": [
    "programming_language_set"
   ],
   "metadata": {
    "collapsed": false
   }
  },
  {
   "cell_type": "markdown",
   "source": [
    "获取该场比赛的所有题目标题"
   ],
   "metadata": {
    "collapsed": false
   }
  },
  {
   "cell_type": "code",
   "execution_count": 19,
   "outputs": [],
   "source": [
    "contest_problem_index_set = set()\n",
    "\n",
    "for submission in contest_status_list:\n",
    "    contest_problem_index_set.add(submission[\"problem\"][\"index\"])"
   ],
   "metadata": {
    "collapsed": false
   }
  },
  {
   "cell_type": "code",
   "execution_count": 20,
   "outputs": [
    {
     "data": {
      "text/plain": "{'A', 'B', 'C1', 'C2', 'D', 'E1', 'E2', 'F', 'G'}"
     },
     "execution_count": 20,
     "metadata": {},
     "output_type": "execute_result"
    }
   ],
   "source": [
    "contest_problem_index_set"
   ],
   "metadata": {
    "collapsed": false
   }
  },
  {
   "cell_type": "markdown",
   "source": [
    "获取某个题目的题面"
   ],
   "metadata": {
    "collapsed": false
   }
  },
  {
   "cell_type": "code",
   "execution_count": 125,
   "outputs": [],
   "source": [
    "from bs4 import BeautifulSoup\n",
    "from tomd import Tomd\n",
    "import re"
   ],
   "metadata": {
    "collapsed": false
   }
  },
  {
   "cell_type": "code",
   "execution_count": 111,
   "outputs": [],
   "source": [
    "problem_idx = \"A\""
   ],
   "metadata": {
    "collapsed": false
   }
  },
  {
   "cell_type": "code",
   "execution_count": 133,
   "outputs": [],
   "source": [
    "problem_page_url = f\"https://codeforces.com/contest/{contest_id}/problem/{problem_idx}\""
   ],
   "metadata": {
    "collapsed": false
   }
  },
  {
   "cell_type": "code",
   "execution_count": 134,
   "outputs": [],
   "source": [
    "problem_page_content = requests.get(problem_page_url)"
   ],
   "metadata": {
    "collapsed": false
   }
  },
  {
   "cell_type": "code",
   "execution_count": 135,
   "outputs": [],
   "source": [
    "soup = BeautifulSoup(problem_page_content.content, \"lxml\")"
   ],
   "metadata": {
    "collapsed": false
   }
  },
  {
   "cell_type": "code",
   "execution_count": 136,
   "outputs": [],
   "source": [
    "problem_statement = soup.find_all(name=\"div\", attrs={\"class\" :\"problem-statement\"})[0]"
   ],
   "metadata": {
    "collapsed": false
   }
  },
  {
   "cell_type": "code",
   "execution_count": 137,
   "outputs": [
    {
     "data": {
      "text/plain": "<div class=\"problem-statement\"><div class=\"header\"><div class=\"title\">F. Diamond Theft</div><div class=\"time-limit\"><div class=\"property-title\">time limit per test</div>2 seconds</div><div class=\"memory-limit\"><div class=\"property-title\">memory limit per test</div>256 megabytes</div><div class=\"input-file\"><div class=\"property-title\">input</div>standard input</div><div class=\"output-file\"><div class=\"property-title\">output</div>standard output</div></div><div><p>Monocarp is the most famous thief in Berland. This time, he decided to steal two diamonds. Unfortunately for Monocarp, there are $$$n$$$ cameras monitoring the diamonds. Each camera has two parameters, $$$t_i$$$ and $$$s_i$$$. The first parameter determines whether the camera is monitoring the first diamond only ($$$t_i=1$$$), the second diamond only ($$$t_i=2$$$), or both diamonds ($$$t_i=3$$$). The second parameter determines the number of seconds the camera will be disabled after it is hacked.</p><p>Every second, Monocarp can perform one of the following three actions: </p><ul> <li> do nothing; </li><li> choose a camera and hack it; if Monocarp hacks the $$$i$$$-th camera, it will be disabled for the next $$$s_i$$$ seconds (if the current second is the $$$T$$$-th one, the camera will be disabled from the $$$(T+1)$$$-th to the $$$(T+s_i)$$$-th second, inclusive); </li><li> steal a diamond if all cameras monitoring it are currently disabled. Monocarp cannot steal the second diamond if he hasn't stolen the first diamond yet. </li></ul><p>Note that Monocarp can hack a camera multiple times, even if it is currently disabled.</p><p>Your task is to determine the minimum time it will take Monocarp to steal both diamonds, <span class=\"tex-font-style-bf\">beginning with the first diamond</span>, or report that it is impossible.</p></div><div class=\"input-specification\"><div class=\"section-title\">Input</div><p>The first line contains a single integer $$$n$$$ ($$$0 \\le n \\le 1500$$$) — the number of cameras.</p><p>Then $$$n$$$ lines follow, the $$$i$$$-th of them contains two integers $$$t_i$$$ and $$$s_i$$$ ($$$1 \\le t_i \\le 3$$$; $$$1 \\le s_i \\le 2n$$$) — the parameters of the $$$i$$$-th camera.</p></div><div class=\"output-specification\"><div class=\"section-title\">Output</div><p>Print a single integer — the minimum time it will take for Monocarp to steal <span class=\"tex-font-style-bf\">the first diamond first and then the second diamond</span>. If it is impossible, print <span class=\"tex-font-style-tt\">-1</span>.</p></div><div class=\"sample-tests\"><div class=\"section-title\">Examples</div><div class=\"sample-test\"><div class=\"input\"><div class=\"title\">Input</div><pre>\n4\n2 6\n1 2\n1 2\n2 1\n</pre></div><div class=\"output\"><div class=\"title\">Output</div><pre>\n6\n</pre></div><div class=\"input\"><div class=\"title\">Input</div><pre>\n4\n2 8\n3 2\n3 2\n3 5\n</pre></div><div class=\"output\"><div class=\"title\">Output</div><pre>\n9\n</pre></div><div class=\"input\"><div class=\"title\">Input</div><pre>\n2\n3 2\n2 3\n</pre></div><div class=\"output\"><div class=\"title\">Output</div><pre>\n4\n</pre></div><div class=\"input\"><div class=\"title\">Input</div><pre>\n1\n3 1\n</pre></div><div class=\"output\"><div class=\"title\">Output</div><pre>\n4\n</pre></div><div class=\"input\"><div class=\"title\">Input</div><pre>\n8\n2 1\n2 2\n3 5\n3 6\n1 2\n1 3\n1 4\n1 5\n</pre></div><div class=\"output\"><div class=\"title\">Output</div><pre>\n11\n</pre></div></div></div></div>"
     },
     "execution_count": 137,
     "metadata": {},
     "output_type": "execute_result"
    }
   ],
   "source": [
    "problem_statement"
   ],
   "metadata": {
    "collapsed": false
   }
  },
  {
   "cell_type": "code",
   "execution_count": 138,
   "outputs": [],
   "source": [
    "problem_statement_dict = {}\n",
    "# 找到题目标题、时间、和内存限制\n",
    "problem_statement_dict[\"title\"] = soup.find_all(name=\"div\", attrs={\"class\":\"title\"})[0].contents[-1]\n",
    "problem_statement_dict[\"time-limit\"] = soup.find_all(name=\"div\", attrs={\"class\":\"time-limit\"})[0].contents[-1]\n",
    "problem_statement_dict[\"memory-limit\"] = soup.find_all(name=\"div\", attrs={\"class\":\"memory-limit\"})[0].contents[-1]"
   ],
   "metadata": {
    "collapsed": false
   }
  },
  {
   "cell_type": "code",
   "execution_count": 139,
   "outputs": [],
   "source": [
    "problem_statement_dict[\"problem-description\"] = Tomd(str(soup.find(\"div\", class_=\"header\").find_next_sibling(\"div\"))).markdown\n",
    "problem_statement_dict[\"input-specification\"] = Tomd(str(soup.find(\"div\", class_=\"input-specification\"))).markdown\n",
    "problem_statement_dict[\"output-specification\"] = Tomd(str(soup.find(\"div\", class_=\"output-specification\"))).markdown\n",
    "problem_statement_dict[\"note\"] = Tomd(str(soup.find(\"div\", class_=\"note\"))).markdown"
   ],
   "metadata": {
    "collapsed": false
   }
  },
  {
   "cell_type": "code",
   "execution_count": 140,
   "outputs": [],
   "source": [
    "for item_title in [\"problem-description\", \"input-specification\", \"output-specification\", \"note\"]:\n",
    "    problem_statement_dict[item_title] = problem_statement_dict[item_title].replace(\"$$$\", \"$\").strip()"
   ],
   "metadata": {
    "collapsed": false
   }
  },
  {
   "cell_type": "code",
   "execution_count": 141,
   "outputs": [
    {
     "data": {
      "text/plain": "{'title': 'F. Diamond Theft',\n 'time-limit': '2 seconds',\n 'memory-limit': '256 megabytes',\n 'problem-description': \"Monocarp is the most famous thief in Berland. This time, he decided to steal two diamonds. Unfortunately for Monocarp, there are $n$ cameras monitoring the diamonds. Each camera has two parameters, $t_i$ and $s_i$. The first parameter determines whether the camera is monitoring the first diamond only ($t_i=1$), the second diamond only ($t_i=2$), or both diamonds ($t_i=3$). The second parameter determines the number of seconds the camera will be disabled after it is hacked.\\n\\nEvery second, Monocarp can perform one of the following three actions: \\n -  do nothing; -  choose a camera and hack it; if Monocarp hacks the $i$-th camera, it will be disabled for the next $s_i$ seconds (if the current second is the $T$-th one, the camera will be disabled from the $(T+1)$-th to the $(T+s_i)$-th second, inclusive); -  steal a diamond if all cameras monitoring it are currently disabled. Monocarp cannot steal the second diamond if he hasn't stolen the first diamond yet. \\nNote that Monocarp can hack a camera multiple times, even if it is currently disabled.\\n\\nYour task is to determine the minimum time it will take Monocarp to steal both diamonds, beginning with the first diamond, or report that it is impossible.\",\n 'input-specification': 'The first line contains a single integer $n$ ($0 \\\\le n \\\\le 1500$)\\xa0— the number of cameras.\\n\\nThen $n$ lines follow, the $i$-th of them contains two integers $t_i$ and $s_i$ ($1 \\\\le t_i \\\\le 3$; $1 \\\\le s_i \\\\le 2n$)\\xa0— the parameters of the $i$-th camera.',\n 'output-specification': 'Print a single integer\\xa0— the minimum time it will take for Monocarp to steal the first diamond first and then the second diamond. If it is impossible, print -1.',\n 'note': ''}"
     },
     "execution_count": 141,
     "metadata": {},
     "output_type": "execute_result"
    }
   ],
   "source": [
    "problem_statement_dict"
   ],
   "metadata": {
    "collapsed": false
   }
  },
  {
   "cell_type": "code",
   "execution_count": 150,
   "outputs": [],
   "source": [
    "def strip_html_tags(input_str):\n",
    "    # 将<br>, <br/>, <p> 和 <div>标签转为换行符\n",
    "    input_str = re.sub(r'<br\\s*?/?>', '\\n', input_str)  # 处理<br>和<br/>标签\n",
    "    input_str = re.sub(r'</p>', '\\n', input_str)  # 处理</p>标签\n",
    "    input_str = re.sub(r'</div>', '\\n', input_str)  # 处理</div>标签\n",
    "\n",
    "    # 使用正则表达式去除所有其他HTML标签\n",
    "    clean = re.compile('<.*?>')\n",
    "    return re.sub(clean, '', input_str).lstrip()"
   ],
   "metadata": {
    "collapsed": false
   }
  },
  {
   "cell_type": "code",
   "execution_count": 151,
   "outputs": [],
   "source": [
    "problem_statement_dict[\"demo-input\"] = []\n",
    "for item_tag in soup.find_all(\"div\", class_=\"input\"):\n",
    "    problem_statement_dict[\"demo-input\"].append(strip_html_tags(str(item_tag.find(\"pre\"))))\n",
    "problem_statement_dict[\"demo-output\"] = []\n",
    "for item_tag in soup.find_all(\"div\", class_=\"output\"):\n",
    "    problem_statement_dict[\"demo-output\"].append(strip_html_tags(str(item_tag.find(\"pre\"))))"
   ],
   "metadata": {
    "collapsed": false
   }
  },
  {
   "cell_type": "code",
   "execution_count": 152,
   "outputs": [
    {
     "data": {
      "text/plain": "{'title': 'F. Diamond Theft',\n 'time-limit': '2 seconds',\n 'memory-limit': '256 megabytes',\n 'problem-description': \"Monocarp is the most famous thief in Berland. This time, he decided to steal two diamonds. Unfortunately for Monocarp, there are $n$ cameras monitoring the diamonds. Each camera has two parameters, $t_i$ and $s_i$. The first parameter determines whether the camera is monitoring the first diamond only ($t_i=1$), the second diamond only ($t_i=2$), or both diamonds ($t_i=3$). The second parameter determines the number of seconds the camera will be disabled after it is hacked.\\n\\nEvery second, Monocarp can perform one of the following three actions: \\n -  do nothing; -  choose a camera and hack it; if Monocarp hacks the $i$-th camera, it will be disabled for the next $s_i$ seconds (if the current second is the $T$-th one, the camera will be disabled from the $(T+1)$-th to the $(T+s_i)$-th second, inclusive); -  steal a diamond if all cameras monitoring it are currently disabled. Monocarp cannot steal the second diamond if he hasn't stolen the first diamond yet. \\nNote that Monocarp can hack a camera multiple times, even if it is currently disabled.\\n\\nYour task is to determine the minimum time it will take Monocarp to steal both diamonds, beginning with the first diamond, or report that it is impossible.\",\n 'input-specification': 'The first line contains a single integer $n$ ($0 \\\\le n \\\\le 1500$)\\xa0— the number of cameras.\\n\\nThen $n$ lines follow, the $i$-th of them contains two integers $t_i$ and $s_i$ ($1 \\\\le t_i \\\\le 3$; $1 \\\\le s_i \\\\le 2n$)\\xa0— the parameters of the $i$-th camera.',\n 'output-specification': 'Print a single integer\\xa0— the minimum time it will take for Monocarp to steal the first diamond first and then the second diamond. If it is impossible, print -1.',\n 'note': '',\n 'demo-input': ['4\\n2 6\\n1 2\\n1 2\\n2 1\\n',\n  '4\\n2 8\\n3 2\\n3 2\\n3 5\\n',\n  '2\\n3 2\\n2 3\\n',\n  '1\\n3 1\\n',\n  '8\\n2 1\\n2 2\\n3 5\\n3 6\\n1 2\\n1 3\\n1 4\\n1 5\\n'],\n 'demo-output': ['6\\n', '9\\n', '4\\n', '4\\n', '11\\n']}"
     },
     "execution_count": 152,
     "metadata": {},
     "output_type": "execute_result"
    }
   ],
   "source": [
    "problem_statement_dict"
   ],
   "metadata": {
    "collapsed": false
   }
  },
  {
   "cell_type": "code",
   "execution_count": null,
   "outputs": [],
   "source": [],
   "metadata": {
    "collapsed": false
   }
  },
  {
   "cell_type": "markdown",
   "source": [
    "创建问题的文件夹"
   ],
   "metadata": {
    "collapsed": false
   }
  },
  {
   "cell_type": "code",
   "execution_count": 90,
   "outputs": [],
   "source": [
    "for contest_problem_index in contest_problem_index_set:\n",
    "    contest_problem_dir = os.path.join(dataset_dir, str(contest_id), contest_problem_index)\n",
    "    os.makedirs(contest_problem_dir, exist_ok=True)"
   ],
   "metadata": {
    "collapsed": false
   }
  },
  {
   "cell_type": "code",
   "execution_count": 91,
   "outputs": [],
   "source": [
    "submission_id = \"222908221\""
   ],
   "metadata": {
    "collapsed": false
   }
  },
  {
   "cell_type": "code",
   "execution_count": 92,
   "outputs": [],
   "source": [
    "submission_response = requests.get(f\"https://codeforces.com/contest/{contest_id}/submission/{submission_id}\")"
   ],
   "metadata": {
    "collapsed": false
   }
  },
  {
   "cell_type": "code",
   "execution_count": 93,
   "outputs": [],
   "source": [
    "soup = bs4.BeautifulSoup(submission_response.content, \"html.parser\")"
   ],
   "metadata": {
    "collapsed": false
   }
  },
  {
   "cell_type": "code",
   "execution_count": 98,
   "outputs": [
    {
     "data": {
      "text/plain": "'//Vaidehi Desai\\r\\n//C++ 17\\r\\n\\r\\n#include <bits/stdc++.h>\\r\\nusing namespace std;\\r\\ntypedef long long int ll;\\r\\n#define all(x) x.begin(), x.end()\\r\\n\\r\\nvoid solve(ll tc)\\r\\n{\\r\\n    ll n, m;\\r\\n    cin >> n >> m;\\r\\n    if(m == 1) {\\r\\n        cout << 0 << endl;\\r\\n        for(ll i = 0; i < n; i++) \\r\\n            cout << 0 << endl;\\r\\n    } else {\\r\\n        if(n >= m) \\r\\n            cout << m << endl;\\r\\n        else\\r\\n            cout << n + 1 << endl;\\r\\n        int st = 0;\\r\\n        for(int j = 0; j < n; j++) {\\r\\n            for(int i = st; i < m; i++) {\\r\\n                cout << i % m << \" \";\\r\\n            }\\r\\n            for(int i = 0; i < st; i++) {\\r\\n                cout << i % m << \" \";\\r\\n            }\\r\\n            st++;\\r\\n            cout << endl;\\r\\n        }\\r\\n    }\\r\\n}\\r\\n\\r\\nsigned main()\\r\\n{\\r\\n    #ifdef Vaidehi\\r\\n        freopen(\"error.txt\", \"w\", stderr);\\r\\n    #endif  \\r\\n    ios_base::sync_with_stdio(false);\\r\\n    cin.tie(NULL);\\r\\n    cout.tie(NULL);\\r\\n    ll tc = 1;\\r\\n    cin >> tc;\\r\\n    for(ll i = 0; i < tc; i++)\\r\\n        solve(i);\\r\\n    return 0;\\r\\n}'"
     },
     "execution_count": 98,
     "metadata": {},
     "output_type": "execute_result"
    }
   ],
   "source": [
    "pre_tag = soup.find(\"pre\", {\"id\": \"program-source-text\"})\n",
    "pre_tag.text"
   ],
   "metadata": {
    "collapsed": false
   }
  },
  {
   "cell_type": "markdown",
   "source": [
    "创建提交文件"
   ],
   "metadata": {
    "collapsed": false
   }
  },
  {
   "cell_type": "code",
   "execution_count": 97,
   "outputs": [],
   "source": [
    "for contest_status in contest_status_list:\n",
    "    # 如果problem.json文件不存在，则创建一个\n",
    "    problem_index = contest_status[\"problem\"][\"index\"]\n",
    "    if not os.path.exists(os.path.join(dataset_dir, str(contest_id), problem_index, \"problem.json\")):\n",
    "        with open(os.path.join(dataset_dir, str(contest_id), problem_index, \"problem.json\"), \"w\") as f:\n",
    "            json.dump(contest_status[\"problem\"], f)\n",
    "\n",
    "    contest_status_dir = os.path.join(dataset_dir, str(contest_id), problem_index)\n",
    "    contest_status_id = contest_status[\"id\"]\n",
    "    contest_status_file_name = os.path.join(contest_status_dir, f\"{contest_status_id}.json\")\n",
    "    # 获取该提交的详细信息\n",
    "    submission_response = requests.get(f\"https://codeforces.com/contest/{contest_id}/submission/{contest_status_id}\")\n",
    "    soup = bs4.BeautifulSoup(submission_response.content, \"html.parser\")\n",
    "    pre_tag = soup.find(\"pre\", {\"id\": \"program-source-text\"})\n",
    "    contest_status[\"code\"] = pre_tag.text\n",
    "    json.dump(contest_status, open(contest_status_file_name, \"w\"))\n",
    "    time.sleep(0.5)\n",
    "\n",
    "    break"
   ],
   "metadata": {
    "collapsed": false
   }
  },
  {
   "cell_type": "code",
   "execution_count": 80,
   "outputs": [
    {
     "data": {
      "text/plain": "<Response [403]>"
     },
     "execution_count": 80,
     "metadata": {},
     "output_type": "execute_result"
    }
   ],
   "source": [
    "submission_response"
   ],
   "metadata": {
    "collapsed": false
   }
  },
  {
   "cell_type": "markdown",
   "source": [
    "获取题目测试用例"
   ],
   "metadata": {
    "collapsed": false
   }
  },
  {
   "cell_type": "code",
   "execution_count": 198,
   "outputs": [],
   "source": [
    "contest_id = \"1\"\n",
    "submission_id = \"150671782\""
   ],
   "metadata": {
    "collapsed": false
   }
  },
  {
   "cell_type": "code",
   "execution_count": 199,
   "outputs": [],
   "source": [
    "submission_url = f\"https://codeforces.com/contest/{contest_id}/submission/{submission_id}\"\n",
    "submission_response = requests.get(submission_url)"
   ],
   "metadata": {
    "collapsed": false
   }
  },
  {
   "cell_type": "code",
   "execution_count": 200,
   "outputs": [],
   "source": [
    "html_str = submission_response.content"
   ],
   "metadata": {
    "collapsed": false
   }
  },
  {
   "cell_type": "code",
   "execution_count": 201,
   "outputs": [],
   "source": [
    "with open(\"submission_html.html\", \"wb\") as f:\n",
    "    f.write(html_str)"
   ],
   "metadata": {
    "collapsed": false
   }
  },
  {
   "cell_type": "code",
   "execution_count": 179,
   "outputs": [],
   "source": [
    "pattern = r\"name='csrf_token' value='(.*?)'\"\n",
    "csrf_token = re.search(pattern, html_str).group(1)"
   ],
   "metadata": {
    "collapsed": false
   }
  },
  {
   "cell_type": "code",
   "execution_count": 180,
   "outputs": [
    {
     "data": {
      "text/plain": "'df211c55860c58dcda44845095c93139'"
     },
     "execution_count": 180,
     "metadata": {},
     "output_type": "execute_result"
    }
   ],
   "source": [
    "csrf_token"
   ],
   "metadata": {
    "collapsed": false
   }
  },
  {
   "cell_type": "code",
   "execution_count": 181,
   "outputs": [],
   "source": [
    "get_test_url = \"https://codeforces.com/data/submitSource\"\n",
    "res = requests.post(get_test_url, data={\"submissionId\": submission_id, \"csrf_token\": csrf_token})\n"
   ],
   "metadata": {
    "collapsed": false
   }
  },
  {
   "cell_type": "code",
   "execution_count": 182,
   "outputs": [
    {
     "data": {
      "text/plain": "b'{\"error\":\"forbidden\"}'"
     },
     "execution_count": 182,
     "metadata": {},
     "output_type": "execute_result"
    }
   ],
   "source": [
    "res.content"
   ],
   "metadata": {
    "collapsed": false
   }
  },
  {
   "cell_type": "code",
   "execution_count": 202,
   "outputs": [
    {
     "name": "stdout",
     "output_type": "stream",
     "text": [
      "data: {'submissionId': '150671782', 'csrf_token': 'ac5dd3d0e4e675805d4c94b287a3b5c1'}\n",
      "b'{\"error\":\"forbidden\"}'\n"
     ]
    }
   ],
   "source": [
    "import requests\n",
    "import re\n",
    "\n",
    "submission_id = \"150671782\"\n",
    "\n",
    "# 使用 session 对象保持会话状态\n",
    "with requests.Session() as session:\n",
    "    # 获取提交页面\n",
    "    submission_url = f\"https://codeforces.com/contest/{contest_id}/submission/{submission_id}\"\n",
    "    submission_response = session.get(submission_url)\n",
    "    # 提取 HTML 内容\n",
    "    html_str = submission_response.content.decode(\"utf-8\")\n",
    "    # 使用正则表达式从 HTML 中提取 csrf_token\n",
    "    pattern = r\"name='csrf_token' value='(.*?)'\"\n",
    "    csrf_token = re.search(pattern, html_str).group(1)\n",
    "    # 使用相同的 session 对象发送带有 csrf_token 的 POST 请求\n",
    "    get_test_url = \"https://codeforces.com/data/submitSource\"\n",
    "    # 定义请求头\n",
    "    headers = {\n",
    "        \"User-Agent\": \"Mozilla/5.0 (Windows NT 10.0; Win64; x64) AppleWebKit/537.36 (KHTML, like Gecko) Chrome/117.0.0.0 Safari/537.36\",\n",
    "        \"X-Csrf-Token\": csrf_token\n",
    "    }\n",
    "    data = {\"submissionId\": submission_id, \"csrf_token\": csrf_token}\n",
    "    print(f\"data: {data}\")\n",
    "    res = session.post(get_test_url, headers=headers, json=json.dumps(data))\n",
    "    # 输出响应内容\n",
    "    print(res.content)"
   ],
   "metadata": {
    "collapsed": false
   }
  },
  {
   "cell_type": "code",
   "execution_count": null,
   "outputs": [],
   "source": [],
   "metadata": {
    "collapsed": false
   }
  },
  {
   "cell_type": "code",
   "execution_count": null,
   "outputs": [],
   "source": [],
   "metadata": {
    "collapsed": false
   }
  }
 ],
 "metadata": {
  "kernelspec": {
   "display_name": "Python 3",
   "language": "python",
   "name": "python3"
  },
  "language_info": {
   "codemirror_mode": {
    "name": "ipython",
    "version": 2
   },
   "file_extension": ".py",
   "mimetype": "text/x-python",
   "name": "python",
   "nbconvert_exporter": "python",
   "pygments_lexer": "ipython2",
   "version": "2.7.6"
  }
 },
 "nbformat": 4,
 "nbformat_minor": 0
}
