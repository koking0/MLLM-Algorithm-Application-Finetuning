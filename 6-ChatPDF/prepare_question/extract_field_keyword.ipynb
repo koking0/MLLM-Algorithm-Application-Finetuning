{
 "cells": [
  {
   "cell_type": "code",
   "execution_count": 1,
   "metadata": {
    "collapsed": true
   },
   "outputs": [],
   "source": [
    "import re\n",
    "import json\n",
    "\n",
    "from concurrent.futures import ThreadPoolExecutor\n",
    "\n",
    "import zhipuai\n"
   ]
  },
  {
   "cell_type": "code",
   "execution_count": 2,
   "outputs": [],
   "source": "zhipuai.api_key = \"\"",
   "metadata": {
    "collapsed": false
   }
  },
  {
   "cell_type": "code",
   "execution_count": 3,
   "outputs": [],
   "source": [
    "classification_template = {\n",
    "    \"company\": \"\",\n",
    "    \"year\": [],\n",
    "    \"keyword\": [],\n",
    "    \"formula\": True,\n",
    "    \"type\": \"\"\n",
    "}"
   ],
   "metadata": {
    "collapsed": false
   }
  },
  {
   "cell_type": "code",
   "execution_count": 4,
   "outputs": [
    {
     "data": {
      "text/plain": "'{\"company\": \"\", \"year\": [], \"keyword\": [], \"formula\": true, \"type\": \"\"}'"
     },
     "execution_count": 4,
     "metadata": {},
     "output_type": "execute_result"
    }
   ],
   "source": [
    "json.dumps(classification_template)"
   ],
   "metadata": {
    "collapsed": false
   }
  },
  {
   "cell_type": "code",
   "execution_count": 5,
   "outputs": [],
   "source": [
    "def trim_string(s):\n",
    "    return re.sub(r'^[ \\'\\\"]*|[ \\'\\\"]*$', '', s)"
   ],
   "metadata": {
    "collapsed": false
   }
  },
  {
   "cell_type": "code",
   "execution_count": 6,
   "outputs": [],
   "source": [
    "def get_llm_classification(question):\n",
    "    assistant_role_msg = \"\"\"你是一个提取问题句子要素清单的机器人，可以根据输入的问题句子，输出JSON格式的要素清单，模板：{\"company\": \"\", \"year\": [], \"keyword\": [], \"formula\": true, \"type\": \"\"}。\n",
    "    其中company表示提取的公司名，year表示提取的年份，keyword表示提取的字段关键词，formula表示是否要使用公式。type字段表示问题类型，'type': '1'型问题为单字段的精准查询，'type': '1-2'型问题会涉及到两个或多个字段，'type': '2-1'型问题涉及到简单的公式计算，'type': '2-2'型问题涉及到查询多条记录，'type': '3-1'型问题是根据年报的具体文档段落做总结的开放式问题，'type': '3-2'型问题为金融领域专业知识问答。\n",
    "    对于不确定的信息，你可以将输出空字符串或空列表。\n",
    "    例如，给定问题\"华翔股份2021年营业利润是多少元?\"，应该输出:{\"company\": \"华翔股份\", \"year\": [2021], \"keyword\": [\"营业利润\"], \"formula\": false, \"type\": \"1\"}。\n",
    "    给定问题\"2021年利润总额最高的上市公司是？\"，应该输出:{\"company\": \"\", \"year\": [2021], \"keyword\": [\"利润总额\"], \"formula\": false, \"type\": \"1\"}。\n",
    "    给定问题\"2019年，宁夏银星能源股份有限公司固定资产和无形资产分别是多少元?\"，应该输出:{\"company\": \"宁夏银星能源股份有限公司\", \"year\": [2019], \"keyword\": [\"固定资产\", \"无形资产\"], \"formula\": false, \"type\": \"1-2\"}。\n",
    "    给定问题\"在北京注册的上市公司中，2019年资产总额最高的前四家上市公司是哪些家？金额为？\"，应该输出:{\"company\": \"\", \"year\": [2019], \"keyword\": [\"注册地址\", \"资产总额\"], \"formula\": false, \"type\": \"1-2\"}。\n",
    "    给定问题\"2020年贵州燃气集团股份有限公司速动比率为多少?保留2位小数。\"，应该输出:{\"company\": \"贵州燃气集团股份有限公司\", \"year\": [2020], \"keyword\": [\"速动比率\"], \"formula\": true, \"type\": \"2-1\"}。\n",
    "    给定问题\"2021年津药药业的法定代表人与上一年是否相同?\"，应该输出:{\"company\": \"津药药业\", \"year\": [2020, 2021], \"keyword\": [\"法定代表人\"], \"formula\": false, \"type\": \"2-2\"}。\n",
    "    给定问题\"请简要分析爱丽家居科技股份有限公司2020年核心竞争力的情况。\"，应该输出:{\"company\": \"爱丽家居科技股份有限公司\", \"year\": [2020], \"keyword\": [\"核心竞争力\"], \"formula\": false, \"type\": \"3-1\"}。\n",
    "    给定问题\"请简要介绍2021年久吾高科重大资产和股权出售情况。\"，应该输出:{\"company\": \"久吾高科\", \"year\": [2021], \"keyword\": [\"重大资产和股权出售\"], \"formula\": false, \"type\": \"3-1\"}。\n",
    "    给定问题\"合同资产是指什么？\"，应该输出:{\"company\": \"\", \"year\": [], \"keyword\": [\"合同资产\"], \"formula\": false, \"type\": \"3-2\"}。\n",
    "    ……\n",
    "    对于输出应该严格按照JSON格式输出，不要输出任何多余的字符。\n",
    "    \"\"\"\n",
    "    response = zhipuai.model_api.invoke(\n",
    "        model=\"chatglm_pro\",\n",
    "        prompt=[\n",
    "            {\"role\": \"user\", \"content\": assistant_role_msg + f\"\\n那么，给定问题\\\"{question}\\\"，应该输出:\"},\n",
    "        ],\n",
    "        ref={\"enable\": False}\n",
    "    )\n",
    "\n",
    "    result = response[\"data\"][\"choices\"][0][\"content\"]\n",
    "    result = trim_string(result).replace(\"\\\\\", \"\")\n",
    "    result = json.loads(result)\n",
    "    return result"
   ],
   "metadata": {
    "collapsed": false
   }
  },
  {
   "cell_type": "code",
   "execution_count": 8,
   "outputs": [],
   "source": [
    "q = \"康希诺生物股份公司在2020年的资产负债比率具体是多少，需要保留至小数点后两位？\"\n",
    "t = get_llm_classification(q)\n",
    "d = {\"question\": q, \"classification\": t}"
   ],
   "metadata": {
    "collapsed": false
   }
  },
  {
   "cell_type": "code",
   "execution_count": 9,
   "outputs": [
    {
     "data": {
      "text/plain": "{'question': '康希诺生物股份公司在2020年的资产负债比率具体是多少，需要保留至小数点后两位？',\n 'classification': {'company': '康希诺生物股份公司',\n  'year': [2020],\n  'keyword': ['资产负债比率'],\n  'formula': True,\n  'type': '1'}}"
     },
     "execution_count": 9,
     "metadata": {},
     "output_type": "execute_result"
    }
   ],
   "source": [
    "d"
   ],
   "metadata": {
    "collapsed": false
   }
  },
  {
   "cell_type": "code",
   "execution_count": 10,
   "outputs": [],
   "source": [
    "questions_file_list = [\n",
    "    \"./初赛/test_questions.json\",\n",
    "    \"./复赛B/B-list-question.json\"\n",
    "]"
   ],
   "metadata": {
    "collapsed": false
   }
  },
  {
   "cell_type": "code",
   "execution_count": 11,
   "outputs": [],
   "source": [
    "def process_question(question):\n",
    "    retry_count = 0\n",
    "    classification = None\n",
    "    while retry_count < 3:\n",
    "        try:\n",
    "            classification = get_llm_classification(question)\n",
    "            break\n",
    "        except Exception as _:\n",
    "            retry_count += 1\n",
    "\n",
    "    if classification:  # 如果分类成功，返回该条目\n",
    "        return {\"question\": question, \"classification\": classification}\n",
    "    return None"
   ],
   "metadata": {
    "collapsed": false
   }
  },
  {
   "cell_type": "code",
   "execution_count": 12,
   "outputs": [],
   "source": [
    "def extract_classification_from_file(file_name):\n",
    "    with open(file_name, 'r', encoding=\"utf-8\") as f:\n",
    "        questions = [json.loads(line)[\"question\"] for line in f.readlines()]\n",
    "\n",
    "    # 使用 ThreadPoolExecutor 并行处理\n",
    "    with ThreadPoolExecutor(max_workers=3) as executor:\n",
    "        for item in executor.map(process_question, questions):\n",
    "            if item:\n",
    "                print(item)\n",
    "                final_results.append(item)"
   ],
   "metadata": {
    "collapsed": false
   }
  },
  {
   "cell_type": "code",
   "execution_count": null,
   "outputs": [],
   "source": [
    "final_results = []\n",
    "for file_path in questions_file_list:\n",
    "    final_results.extend(extract_classification_from_file(file_path))"
   ],
   "metadata": {
    "collapsed": false
   }
  },
  {
   "cell_type": "code",
   "execution_count": 14,
   "outputs": [
    {
     "data": {
      "text/plain": "179"
     },
     "execution_count": 14,
     "metadata": {},
     "output_type": "execute_result"
    }
   ],
   "source": [
    "len(final_results)"
   ],
   "metadata": {
    "collapsed": false
   }
  },
  {
   "cell_type": "code",
   "execution_count": 15,
   "outputs": [],
   "source": [
    "# 如果需要将结果保存到文件中\n",
    "with open(\"classified_questions.json\", \"w\", encoding=\"utf-8\") as f:\n",
    "    json.dump(final_results, f, ensure_ascii=False, indent=4)\n"
   ],
   "metadata": {
    "collapsed": false
   }
  },
  {
   "cell_type": "code",
   "execution_count": null,
   "outputs": [],
   "source": [],
   "metadata": {
    "collapsed": false
   }
  }
 ],
 "metadata": {
  "kernelspec": {
   "display_name": "Python 3",
   "language": "python",
   "name": "python3"
  },
  "language_info": {
   "codemirror_mode": {
    "name": "ipython",
    "version": 2
   },
   "file_extension": ".py",
   "mimetype": "text/x-python",
   "name": "python",
   "nbconvert_exporter": "python",
   "pygments_lexer": "ipython2",
   "version": "2.7.6"
  }
 },
 "nbformat": 4,
 "nbformat_minor": 0
}
