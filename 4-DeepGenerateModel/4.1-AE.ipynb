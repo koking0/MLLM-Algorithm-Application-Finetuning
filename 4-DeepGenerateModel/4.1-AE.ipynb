{
 "cells": [
  {
   "cell_type": "code",
   "execution_count": 1,
   "metadata": {
    "collapsed": false
   },
   "outputs": [],
   "source": [
    "import torch as th\n",
    "import torch.nn as nn\n",
    "import torch.nn.functional as F"
   ]
  },
  {
   "cell_type": "code",
   "execution_count": 2,
   "metadata": {
    "collapsed": true
   },
   "outputs": [],
   "source": [
    "class DownConvLayer(nn.Module):\n",
    "    def __init__(self, dim):\n",
    "        super(DownConvLayer, self).__init__()\n",
    "        self.conv = nn.Conv2d(dim, dim, 3, padding=1)\n",
    "        self.pool = nn.MaxPool2d(2)\n",
    "\n",
    "    def forward(self, x):\n",
    "        x = F.relu(self.conv(x))\n",
    "        x = self.pool(x)\n",
    "        return x"
   ]
  },
  {
   "cell_type": "markdown",
   "metadata": {
    "collapsed": false
   },
   "source": [
    "以上代码定义了一个名为DownConvLayer的类，主要功能是实现了一个下采样卷积层，用于在卷积神经网络中进行特征提取和降维。在类的初始化方法中，定义了两个子模块。第一个子模块是使用nn.Conv2d函数定义的卷积层，输入和输出的通道数都是dim，卷积核大小为3x3，padding为1，表示在输入特征图周围填充一圈0，使得卷积操作后特征图大小不变。第二个子模块是nn.MaxPool2d，用于进行最大池化操作，将输入特征图尺寸缩小一半。在forward方法中，接收输入x，并通过卷积操作、ReLU激活函数和最大池化操作进行特征提取和降维，最后返回降维后的特征图。"
   ]
  },
  {
   "cell_type": "code",
   "execution_count": 3,
   "metadata": {
    "collapsed": false
   },
   "outputs": [
    {
     "name": "stdout",
     "output_type": "stream",
     "text": [
      "torch.Size([1, 1, 14, 14])\n"
     ]
    }
   ],
   "source": [
    "# 创建一个DownConvLayer对象\n",
    "down_conv = DownConvLayer(dim=1)\n",
    "# 创建一个输入张量，假设尺寸为[batch_size, channel, height, width]\n",
    "input_tensor = th.randn(1, 1, 28, 28)\n",
    "# 将输入张量传递给DownConvLayer的forward方法进行前向计算\n",
    "output_tensor = down_conv(input_tensor)\n",
    "# 输出降维后的特征图尺寸\n",
    "print(output_tensor.shape)"
   ]
  },
  {
   "cell_type": "markdown",
   "metadata": {
    "collapsed": false
   },
   "source": [
    "在测试用例中，我们创建了一个包含3个通道的输入张量，尺寸为[1, 3, 32, 32]。然后将输入张量传递给DownConvLayer的forward方法进行前向计算，得到输出张量output_tensor。最后打印输出张量的形状，可以看到输出特征图的尺寸被压缩了一半，即成为[1, 3, 16, 16]。"
   ]
  },
  {
   "cell_type": "code",
   "execution_count": 4,
   "metadata": {
    "collapsed": false
   },
   "outputs": [],
   "source": [
    "class UpConvLayer(nn.Module):\n",
    "    def __init__(self, dim):\n",
    "        super(UpConvLayer, self).__init__()\n",
    "        self.conv = nn.Conv2d(dim, dim, 3, padding=1)\n",
    "        self.upsample = nn.Upsample(scale_factor=2, mode=\"nearest\")\n",
    "\n",
    "    def forward(self, x):\n",
    "        x = F.relu(self.conv(x))\n",
    "        x = self.upsample(x)\n",
    "        return x"
   ]
  },
  {
   "cell_type": "markdown",
   "metadata": {
    "collapsed": false
   },
   "source": [
    "以上代码定义了一个名为UpConvLayer的类，主要功能是实现了一个上采样卷积层，用于在卷积神经网络中进行特征上采样和提取更细致的特征。在类的初始化方法中，定义了两个子模块。第一个子模块是使用nn.Conv2d函数定义的卷积层，具体参数和作用与DownConvLayer一致。第二个子模块是nn.Upsample，用于进行上采样操作，通过指定scale_factor参数来确定上采样的倍数，mode参数设置为\"nearest\"表示使用最近邻插值。在forward方法中，接收输入x，并通过卷积操作、ReLU激活函数和上采样操作进行特征提取和上采样，最后返回上采样后的特征图。"
   ]
  },
  {
   "cell_type": "code",
   "execution_count": 5,
   "metadata": {
    "collapsed": false
   },
   "outputs": [
    {
     "name": "stdout",
     "output_type": "stream",
     "text": [
      "torch.Size([1, 1, 28, 28])\n"
     ]
    }
   ],
   "source": [
    "# 创建一个UpConvLayer对象\n",
    "up_conv = UpConvLayer(dim=1)\n",
    "# 创建一个输入张量，假设尺寸为[batch_size, channel, height, width]\n",
    "input_tensor = th.randn(1, 1, 14, 14)\n",
    "# 将输入张量传递给UpConvLayer的forward方法进行前向计算\n",
    "output_tensor = up_conv(input_tensor)\n",
    "# 输出上采样后的特征图尺寸\n",
    "print(output_tensor.shape)"
   ]
  },
  {
   "cell_type": "markdown",
   "metadata": {
    "collapsed": false
   },
   "source": [
    "在测试用例中，我们创建了一个包含3个通道的输入张量，尺寸为[1, 3, 16, 16]。然后将输入张量传递给UpConvLayer的forward方法进行前向计算，得到输出张量output_tensor。最后打印输出张量的形状，可以看到输出特征图的尺寸被放大了一倍，即成为[1, 3, 32, 32]。"
   ]
  },
  {
   "cell_type": "code",
   "execution_count": 6,
   "metadata": {
    "collapsed": false
   },
   "outputs": [],
   "source": [
    "class Encoder(nn.Module):\n",
    "    def __init__(self, dim, layer_num=3):\n",
    "        super(Encoder, self).__init__()\n",
    "        self.convs = nn.ModuleList([DownConvLayer(dim) for _ in range(layer_num)])\n",
    "\n",
    "    def forward(self, x):\n",
    "        for conv in self.convs:\n",
    "            x = conv(x)\n",
    "        return x"
   ]
  },
  {
   "cell_type": "code",
   "execution_count": 7,
   "metadata": {
    "collapsed": false
   },
   "outputs": [],
   "source": [
    "class Decoder(nn.Module):\n",
    "    def __init__(self, dim, layer_num=3):\n",
    "        super(Decoder, self).__init__()\n",
    "        self.convs = nn.ModuleList([UpConvLayer(dim) for _ in range(layer_num)])\n",
    "        self.final_conv = nn.Conv2d(dim, 1, 3, stride=1, padding=1)\n",
    "\n",
    "    def forward(self, x):\n",
    "        for conv in self.convs:\n",
    "            x = conv(x)\n",
    "        reconstruct = self.final_conv(x)\n",
    "        return reconstruct"
   ]
  },
  {
   "cell_type": "markdown",
   "metadata": {
    "collapsed": false
   },
   "source": [
    "以上代码定义了一个Encoder类和一个Decoder类，分别用于实现编码器和解码器的功能。Encoder类中包含一个nn.ModuleList对象self.convs，根据layer_num参数的设置，通过循环创建layer_num个DownConvLayer实例，并将它们存储在self.convs中。在Encoder类的forward方法中，对于self.convs中的每个DownConvLayer实例，将输入x传递给它们进行特征提取和降维操作，并将结果作为下一个DownConvLayer的输入。最后返回最后一个DownConvLayer的输出结果。Decoder类中也包含一个nn.ModuleList对象self.convs，用于存储多个UpConvLayer类的实例，以及一个最终的卷积层self.final_conv。初始化方法与Encoder类类似，根据layer_num参数的设置，通过循环创建layer_num个UpConvLayer实例，并将它们存储在self.convs中。同时，创建一个卷积层self.final_conv，用于将解码器的输出特征图映射为最终的重建图像。在Decoder类的forward方法中，对于self.convs中的每个UpConvLayer实例，将输入x传递给它们进行特征上采样和提取更细致的特征操作，并将结果作为下一个UpConvLayer的输入。最后将最后一个UpConvLayer的输出结果通过self.final_conv进行卷积运算，得到最终的重建图像。"
   ]
  },
  {
   "cell_type": "code",
   "execution_count": 8,
   "metadata": {},
   "outputs": [
    {
     "name": "stdout",
     "output_type": "stream",
     "text": [
      "torch.Size([1, 1, 7, 7])\n",
      "torch.Size([1, 1, 28, 28])\n"
     ]
    }
   ],
   "source": [
    "# 创建一个Encoder对象和一个Decoder对象\n",
    "encoder = Encoder(dim=1, layer_num=2)\n",
    "decoder = Decoder(dim=1, layer_num=2)\n",
    "# 创建一个输入张量，假设尺寸为[batch_size, channel, height, width]\n",
    "input_tensor = th.randn(1, 1, 28, 28)\n",
    "# 将输入张量传递给Encoder的forward方法进行前向计算\n",
    "encoded_tensor = encoder(input_tensor)\n",
    "# 输出编码后图像的尺寸\n",
    "print(encoded_tensor.shape)\n",
    "# 将编码后的张量传递给Decoder的forward方法进行前向计算\n",
    "reconstructed_tensor = decoder(encoded_tensor)\n",
    "# 输出重建图像的尺寸\n",
    "print(reconstructed_tensor.shape)"
   ]
  },
  {
   "cell_type": "code",
   "execution_count": 9,
   "metadata": {
    "collapsed": false
   },
   "outputs": [],
   "source": [
    "class AutoEncoderModel(nn.Module):\n",
    "    def __init__(self):\n",
    "        super(AutoEncoderModel, self).__init__()\n",
    "        self.encoder = Encoder(1, layer_num=1)\n",
    "        self.decoder = Decoder(1, layer_num=1)\n",
    "\n",
    "    def forward(self, inputs):\n",
    "        latent = self.encoder(inputs)\n",
    "        reconstruct_img = self.decoder(latent)\n",
    "        return reconstruct_img"
   ]
  },
  {
   "cell_type": "code",
   "execution_count": 10,
   "metadata": {
    "collapsed": false
   },
   "outputs": [],
   "source": [
    "import torchvision\n",
    "import torchvision.transforms as transforms"
   ]
  },
  {
   "cell_type": "code",
   "execution_count": 11,
   "metadata": {
    "collapsed": false
   },
   "outputs": [],
   "source": [
    "# 加载和预处理MNIST数据集\n",
    "transform = transforms.Compose([\n",
    "    transforms.Resize((32, 32)),\n",
    "    transforms.ToTensor()\n",
    "])\n",
    "train_dataset = torchvision.datasets.MNIST(root=\"./data\", train=True, transform=transform, download=True)\n",
    "train_loader = th.utils.data.DataLoader(train_dataset, batch_size=32, shuffle=True)\n",
    "# 创建自编码器模型实例、优化器和损失函数\n",
    "model = AutoEncoderModel()\n",
    "optimizer = th.optim.Adam(model.parameters(), lr=1e-5, weight_decay=0.01)\n",
    "criterion = nn.MSELoss()\n",
    "# 训练自编码器模型\n",
    "num_epochs = 50\n",
    "device = th.device(\"cuda\" if th.cuda.is_available() else \"cpu\")\n",
    "model = model.to(device)"
   ]
  },
  {
   "cell_type": "code",
   "execution_count": 12,
   "outputs": [
    {
     "data": {
      "text/plain": "device(type='cuda')"
     },
     "execution_count": 12,
     "metadata": {},
     "output_type": "execute_result"
    }
   ],
   "source": [
    "device"
   ],
   "metadata": {
    "collapsed": false
   }
  },
  {
   "cell_type": "code",
   "execution_count": 13,
   "metadata": {
    "collapsed": false
   },
   "outputs": [
    {
     "name": "stdout",
     "output_type": "stream",
     "text": [
      "Epoch [1/50], Loss: 0.1135\n",
      "Epoch [2/50], Loss: 0.1075\n",
      "Epoch [3/50], Loss: 0.1024\n",
      "Epoch [4/50], Loss: 0.0979\n",
      "Epoch [5/50], Loss: 0.0941\n",
      "Epoch [6/50], Loss: 0.0909\n",
      "Epoch [7/50], Loss: 0.0884\n",
      "Epoch [8/50], Loss: 0.0864\n",
      "Epoch [9/50], Loss: 0.0851\n",
      "Epoch [10/50], Loss: 0.0842\n",
      "Epoch [11/50], Loss: 0.0838\n",
      "Epoch [12/50], Loss: 0.0828\n",
      "Epoch [13/50], Loss: 0.0796\n",
      "Epoch [14/50], Loss: 0.0757\n",
      "Epoch [15/50], Loss: 0.0710\n",
      "Epoch [16/50], Loss: 0.0659\n",
      "Epoch [17/50], Loss: 0.0607\n",
      "Epoch [18/50], Loss: 0.0560\n",
      "Epoch [19/50], Loss: 0.0521\n",
      "Epoch [20/50], Loss: 0.0490\n",
      "Epoch [21/50], Loss: 0.0464\n",
      "Epoch [22/50], Loss: 0.0439\n",
      "Epoch [23/50], Loss: 0.0416\n",
      "Epoch [24/50], Loss: 0.0394\n",
      "Epoch [25/50], Loss: 0.0372\n",
      "Epoch [26/50], Loss: 0.0351\n",
      "Epoch [27/50], Loss: 0.0331\n",
      "Epoch [28/50], Loss: 0.0312\n",
      "Epoch [29/50], Loss: 0.0294\n",
      "Epoch [30/50], Loss: 0.0277\n",
      "Epoch [31/50], Loss: 0.0260\n",
      "Epoch [32/50], Loss: 0.0244\n",
      "Epoch [33/50], Loss: 0.0230\n",
      "Epoch [34/50], Loss: 0.0216\n",
      "Epoch [35/50], Loss: 0.0204\n",
      "Epoch [36/50], Loss: 0.0193\n",
      "Epoch [37/50], Loss: 0.0182\n",
      "Epoch [38/50], Loss: 0.0172\n",
      "Epoch [39/50], Loss: 0.0163\n",
      "Epoch [40/50], Loss: 0.0155\n",
      "Epoch [41/50], Loss: 0.0148\n",
      "Epoch [42/50], Loss: 0.0141\n",
      "Epoch [43/50], Loss: 0.0135\n",
      "Epoch [44/50], Loss: 0.0130\n",
      "Epoch [45/50], Loss: 0.0125\n",
      "Epoch [46/50], Loss: 0.0121\n",
      "Epoch [47/50], Loss: 0.0118\n",
      "Epoch [48/50], Loss: 0.0115\n",
      "Epoch [49/50], Loss: 0.0112\n",
      "Epoch [50/50], Loss: 0.0111\n",
      "Training finished!\n"
     ]
    }
   ],
   "source": [
    "for epoch in range(num_epochs):\n",
    "    running_loss = 0.0\n",
    "    for data in train_loader:\n",
    "        images, _ = data\n",
    "        images = images.to(device)\n",
    "\n",
    "        optimizer.zero_grad()\n",
    "        reconstructed_images = model(images)\n",
    "        loss = criterion(images, reconstructed_images)\n",
    "        loss.backward()\n",
    "        optimizer.step()\n",
    "        running_loss += loss.item()\n",
    "    epoch_loss = running_loss / len(train_loader)\n",
    "    print(f\"Epoch [{epoch + 1}/{num_epochs}], Loss: {epoch_loss:.4f}\")\n",
    "\n",
    "print(\"Training finished!\")"
   ]
  },
  {
   "cell_type": "code",
   "execution_count": 14,
   "metadata": {},
   "outputs": [],
   "source": [
    "import matplotlib.pyplot as plt"
   ]
  },
  {
   "cell_type": "code",
   "execution_count": 15,
   "metadata": {},
   "outputs": [
    {
     "data": {
      "text/plain": "<Figure size 640x480 with 1 Axes>",
      "image/png": "[encoded data removed]"
     },
     "metadata": {},
     "output_type": "display_data"
    }
   ],
   "source": [
    "image = images[1].cpu().numpy()\n",
    "image = image.squeeze()\n",
    "plt.imshow(image, cmap=\"gray\")\n",
    "plt.show()"
   ]
  },
  {
   "cell_type": "code",
   "execution_count": 16,
   "metadata": {},
   "outputs": [
    {
     "data": {
      "text/plain": "<Figure size 640x480 with 1 Axes>",
      "image/png": "[encoded data removed]"
     },
     "metadata": {},
     "output_type": "display_data"
    }
   ],
   "source": [
    "image = reconstructed_images[1].cpu().detach().numpy()\n",
    "image = image.squeeze()\n",
    "plt.imshow(image, cmap=\"gray\")\n",
    "plt.show()"
   ]
  },
  {
   "cell_type": "code",
   "execution_count": 16,
   "metadata": {},
   "outputs": [],
   "source": []
  }
 ],
 "metadata": {
  "kernelspec": {
   "display_name": "Python 3",
   "language": "python",
   "name": "python3"
  },
  "language_info": {
   "codemirror_mode": {
    "name": "ipython",
    "version": 3
   },
   "file_extension": ".py",
   "mimetype": "text/x-python",
   "name": "python",
   "nbconvert_exporter": "python",
   "pygments_lexer": "ipython3",
   "version": "3.10.12"
  }
 },
 "nbformat": 4,
 "nbformat_minor": 0
}
