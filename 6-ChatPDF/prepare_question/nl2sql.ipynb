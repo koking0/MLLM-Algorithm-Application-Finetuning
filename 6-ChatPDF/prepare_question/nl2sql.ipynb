{
 "cells": [
  {
   "cell_type": "code",
   "execution_count": 42,
   "outputs": [],
   "source": [
    "import zhipuai"
   ],
   "metadata": {
    "collapsed": false
   }
  },
  {
   "cell_type": "code",
   "execution_count": 43,
   "metadata": {
    "collapsed": true
   },
   "outputs": [],
   "source": [
    "from utils import get_llm_classification, trim_string, get_similarity_column_name"
   ]
  },
  {
   "cell_type": "code",
   "execution_count": 77,
   "outputs": [],
   "source": [
    "def get_llm_sql(question, years, columns):\n",
    "    assistant_role_msg = \"\"\"你的任务是将我所提出的问题转换为SQL。我会给你提供要查询的表名、涉及到的年份和涉及到的数据库表列名，你需要基于此写出对应的SQL语句。\n",
    "    接下来我将给你提供几个例子：\n",
    "    Input: 查询的表名为company，涉及到的年份：2020、2021，涉及到的列名有: 法定代表人,公司名称,股票简称,股票代码,合同资产,报告年份。问题：2021年公司名称为晋西车轴股份有限公司的公司法定代表人与2020年相比是否都是相同的？\n",
    "    Output: select 公司名称,股票简称,报告年份,法定代表人 from company where 报告年份 in ('2021', '2020') and (公司名称 in ('晋西车轴股份有限公司') or 股票简称 in ('晋西车轴股份有限公司'));\n",
    "    Input: 查询的表名为company，涉及到的年份：2021，涉及到的列名有: 公司名称,硕士人员,职工总数,股票代码,股票简称,博士人员,报告年份。问题：朗新科技2021年的硕士员工人数有多少？\n",
    "    Output: select 公司名称,股票简称,报告年份,硕士人员 from company where 报告年份 in ('2021') and (公司名称 in ('朗新科技') or 股票简称 in ('朗新科技');\n",
    "    Input:查询的表名为company，涉及到的年份：2019，涉及到的列名有: 公司名称,固定资产,无形资产,股票代码,股票简称,报告年份。问题：2019年银星能源固定资产和无形资产分别是多少元?\n",
    "    Output: select 公司名称,股票简称,报告年份,固定资产,无形资产 from company where 报告年份 in ('2019') and (公司名称 in ('银星能源') or 股票简称 in ('银星能源');\n",
    "    Input: 查询的表名为company，涉及到的年份：2019，涉及到的列名有: 公司名称,股票代码,股票简称,报告年份,注册地址,资产总计。问题：在北京注册的上市公司中，2019年资产总额最高的前四家上市公司是哪些家？金额为？\n",
    "    Output: select 公司名称,股票简称,报告年份,资产总计 from company where 报告年份 in ('2019') and 注册地址 like '%北京%' order by 资产总计 desc limit 4;\n",
    "    ……\n",
    "    对于Output应该严格按照sqlite的sql格式输出，并且所有select的字段中都要包含“公司名称,股票简称,报告年份”这几项，还要注意区分WHERE筛选条件中到底是用“公司名称”还是“股票简称”，不要输出任何多余的字符。\n",
    "    \"\"\"\n",
    "    columns = [\"公司名称\", \"股票简称\", \"股票代码\", \"报告年份\"] + columns\n",
    "    columns_msg = ','.join(columns).replace(\" \", '')\n",
    "    years_msg = '、'.join([str(i) + \"年\" for i in years]).replace(\" \", '')\n",
    "    message =f\"查询的表名为company，涉及到的年份：{years_msg}，涉及到的列名有: {columns_msg}。问题：{question}\"\n",
    "    response = zhipuai.model_api.invoke(\n",
    "        model=\"chatglm_pro\",\n",
    "        prompt=[\n",
    "            {\"role\": \"user\", \"content\": assistant_role_msg + f\"\\n那么，再给定Input: {message}，应该Output:\"},\n",
    "        ],\n",
    "        temperature=1.0,\n",
    "        ref={\"enable\": False}\n",
    "    )\n",
    "\n",
    "    result = response[\"data\"][\"choices\"][0][\"content\"].replace('，', ',')\n",
    "    return trim_string(result)\n"
   ],
   "metadata": {
    "collapsed": false
   }
  },
  {
   "cell_type": "code",
   "execution_count": 82,
   "outputs": [
    {
     "name": "stdout",
     "output_type": "stream",
     "text": [
      "Content: 法定代表人, Score: 1.1384489184695923e-10\n",
      "Content: 公司名称, Score: 265.4627685546875\n"
     ]
    }
   ],
   "source": [
    "q = \"津药药业2021年和2019年的法定代表人与上一年是否相同?\"\n",
    "d = get_llm_classification(q)\n",
    "cs = [col for keyword in d[\"keyword\"] for col in get_similarity_column_name(keyword)]\n",
    "sql = get_llm_sql(q, d[\"year\"], cs)\n"
   ],
   "metadata": {
    "collapsed": false
   }
  },
  {
   "cell_type": "code",
   "execution_count": 83,
   "outputs": [
    {
     "data": {
      "text/plain": "\"select 公司名称,股票简称,报告年份,法定代表人 from company where 报告年份 in ('2019', '2021') and (公司名称 in ('津药药业') or 股票简称 in ('津药药业'));\""
     },
     "execution_count": 83,
     "metadata": {},
     "output_type": "execute_result"
    }
   ],
   "source": [
    "sql"
   ],
   "metadata": {
    "collapsed": false
   }
  },
  {
   "cell_type": "code",
   "execution_count": 73,
   "outputs": [],
   "source": [],
   "metadata": {
    "collapsed": false
   }
  },
  {
   "cell_type": "code",
   "execution_count": 51,
   "outputs": [],
   "source": [
    "import json\n",
    "import sqlite3\n"
   ],
   "metadata": {
    "collapsed": false
   }
  },
  {
   "cell_type": "code",
   "execution_count": 48,
   "outputs": [],
   "source": [
    "# 创建连接\n",
    "conn = sqlite3.connect(\"../prepare_data/company.db\")\n",
    "cursor = conn.cursor()\n"
   ],
   "metadata": {
    "collapsed": false
   }
  },
  {
   "cell_type": "code",
   "execution_count": 84,
   "outputs": [],
   "source": [
    "# 查询数据\n",
    "cursor.execute(sql)\n",
    "results = cursor.fetchall()\n",
    "# 获取列名\n",
    "columns = [desc[0] for desc in cursor.description]\n",
    "# 转换查询结果为字典\n",
    "data = [dict(zip(columns, row)) for row in results]\n",
    "# 转换字典为JSON格式\n",
    "json_data = json.dumps(data, ensure_ascii=False, indent=4)"
   ],
   "metadata": {
    "collapsed": false
   }
  },
  {
   "cell_type": "code",
   "execution_count": 85,
   "outputs": [
    {
     "data": {
      "text/plain": "'[\\n    {\\n        \"公司名称\": \"津药药业股份有限公司\",\\n        \"股票简称\": \"津药药业\",\\n        \"报告年份\": 2021,\\n        \"法定代表人\": \"刘欣\"\\n    },\\n    {\\n        \"公司名称\": \"津药药业股份有限公司\",\\n        \"股票简称\": \"津药药业\",\\n        \"报告年份\": 2019,\\n        \"法定代表人\": \"张杰\"\\n    }\\n]'"
     },
     "execution_count": 85,
     "metadata": {},
     "output_type": "execute_result"
    }
   ],
   "source": [
    "json_data\n"
   ],
   "metadata": {
    "collapsed": false
   }
  },
  {
   "cell_type": "code",
   "execution_count": 86,
   "outputs": [],
   "source": [
    "def answer_normalize(question, answer):\n",
    "    assistant_msg = f\"\"\"请你根据查询结果回答问题，要求语言流畅，表意清晰，完整通顺。\n",
    "    查询结果：{answer}\n",
    "    问题：{question}\n",
    "    回答：\n",
    "    \"\"\"\n",
    "    response = zhipuai.model_api.invoke(\n",
    "        model=\"chatglm_pro\",\n",
    "        prompt=[\n",
    "            {\"role\": \"user\", \"content\": assistant_msg},\n",
    "        ],\n",
    "        temperature=1.0,\n",
    "        ref={\"enable\": False}\n",
    "    )\n",
    "\n",
    "    result = response[\"data\"][\"choices\"][0][\"content\"].replace('，', ',')\n",
    "    return trim_string(result)\n"
   ],
   "metadata": {
    "collapsed": false
   }
  },
  {
   "cell_type": "code",
   "execution_count": 87,
   "outputs": [
    {
     "data": {
      "text/plain": "'津药药业 2021 年的法定代表人是刘欣,2019 年的法定代表人是张杰。因此,2021 年和 2019 年的法定代表人并不相同。'"
     },
     "execution_count": 87,
     "metadata": {},
     "output_type": "execute_result"
    }
   ],
   "source": [
    "answer_normalize(q, json_data)\n"
   ],
   "metadata": {
    "collapsed": false
   }
  },
  {
   "cell_type": "code",
   "execution_count": null,
   "outputs": [],
   "source": [],
   "metadata": {
    "collapsed": false
   }
  }
 ],
 "metadata": {
  "kernelspec": {
   "display_name": "Python 3",
   "language": "python",
   "name": "python3"
  },
  "language_info": {
   "codemirror_mode": {
    "name": "ipython",
    "version": 2
   },
   "file_extension": ".py",
   "mimetype": "text/x-python",
   "name": "python",
   "nbconvert_exporter": "python",
   "pygments_lexer": "ipython2",
   "version": "2.7.6"
  }
 },
 "nbformat": 4,
 "nbformat_minor": 0
}
