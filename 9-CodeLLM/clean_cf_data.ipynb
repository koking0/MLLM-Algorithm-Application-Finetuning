{
 "cells": [
  {
   "cell_type": "code",
   "execution_count": 47,
   "metadata": {
    "collapsed": true
   },
   "outputs": [],
   "source": [
    "import json\n",
    "import os\n"
   ]
  },
  {
   "cell_type": "code",
   "execution_count": 48,
   "outputs": [],
   "source": [
    "raw_dataset_dir = r\"D:\\Code\\DataSet\\CodeForceDataSet-python-raw\"\n",
    "file_dataset_dir = r\"D:\\Code\\DataSet\\CodeForceDataSet-python-file\""
   ],
   "metadata": {
    "collapsed": false
   }
  },
  {
   "cell_type": "code",
   "execution_count": 49,
   "outputs": [],
   "source": [
    "if not os.path.exists(file_dataset_dir):\n",
    "    os.makedirs(file_dataset_dir, exist_ok=True)\n"
   ],
   "metadata": {
    "collapsed": false
   }
  },
  {
   "cell_type": "code",
   "execution_count": 50,
   "outputs": [],
   "source": [
    "code_list = []"
   ],
   "metadata": {
    "collapsed": false
   }
  },
  {
   "cell_type": "code",
   "execution_count": 51,
   "outputs": [],
   "source": [
    "# 遍历源文件夹的所有子文件夹\n",
    "for root, dirs, files in os.walk(raw_dataset_dir):\n",
    "    for file in files:\n",
    "        # 检查文件是否是以数字命名的 JSON 文件\n",
    "        if file.endswith('.json') and file.split('.')[0].isdigit():\n",
    "            with open(os.path.join(root, file), 'r', encoding='utf-8') as json_file:\n",
    "                data = json.load(json_file)\n",
    "                # 提取代码部分\n",
    "                code = data.get('code', None)\n",
    "                if code:\n",
    "                    submission_id = file.split('.')[0]\n",
    "                    code_list.append({\n",
    "                        \"submission_id\": submission_id,\n",
    "                        \"code\": code.replace(\"\\r\\n\", \"\\n\")\n",
    "                    })"
   ],
   "metadata": {
    "collapsed": false
   }
  },
  {
   "cell_type": "code",
   "execution_count": 52,
   "outputs": [
    {
     "data": {
      "text/plain": "192719"
     },
     "execution_count": 52,
     "metadata": {},
     "output_type": "execute_result"
    }
   ],
   "source": [
    "len(code_list)\n"
   ],
   "metadata": {
    "collapsed": false
   }
  },
  {
   "cell_type": "code",
   "execution_count": 53,
   "outputs": [
    {
     "data": {
      "text/plain": "{'submission_id': '150671782',\n 'code': 'import math\\nn, m, a = map(int, input().split())\\nprint(math.ceil(n / a) * math.ceil(m / a))'}"
     },
     "execution_count": 53,
     "metadata": {},
     "output_type": "execute_result"
    }
   ],
   "source": [
    "code_list[0]\n"
   ],
   "metadata": {
    "collapsed": false
   }
  },
  {
   "cell_type": "code",
   "execution_count": 54,
   "outputs": [],
   "source": [
    "from datasets import Dataset"
   ],
   "metadata": {
    "collapsed": false
   }
  },
  {
   "cell_type": "code",
   "execution_count": 55,
   "outputs": [],
   "source": [
    "dataset = Dataset.from_dict({\n",
    "    \"submission_id\": [item[\"submission_id\"] for item in code_list],\n",
    "    \"code\": [item[\"code\"] for item in code_list]\n",
    "})\n"
   ],
   "metadata": {
    "collapsed": false
   }
  },
  {
   "cell_type": "code",
   "execution_count": 56,
   "outputs": [
    {
     "data": {
      "text/plain": "Saving the dataset (0/1 shards):   0%|          | 0/192719 [00:00<?, ? examples/s]",
      "application/vnd.jupyter.widget-view+json": {
       "version_major": 2,
       "version_minor": 0,
       "model_id": "47ea62c3ade24372a0ae7fc1239eb2fd"
      }
     },
     "metadata": {},
     "output_type": "display_data"
    }
   ],
   "source": [
    "dataset.save_to_disk(file_dataset_dir)\n"
   ],
   "metadata": {
    "collapsed": false
   }
  },
  {
   "cell_type": "code",
   "execution_count": 56,
   "outputs": [],
   "source": [],
   "metadata": {
    "collapsed": false
   }
  },
  {
   "cell_type": "markdown",
   "source": [
    "python -m text_dedup.minhash --local --path \"D:\\Code\\DataSet\\CodeForceDataSet-python-file\" --cache_dir \"./cache\" --output \"output/minhash/cf_code_dedup\" --column \"code\" --batch_size 10000\n"
   ],
   "metadata": {
    "collapsed": false
   }
  },
  {
   "cell_type": "code",
   "execution_count": null,
   "outputs": [],
   "source": [],
   "metadata": {
    "collapsed": false
   }
  },
  {
   "cell_type": "code",
   "execution_count": 58,
   "outputs": [],
   "source": [
    "def generate_trigrams(sentence):\n",
    "    words = sentence.split()  # 将句子分割为单词列表\n",
    "    trigrams = []\n",
    "    for i in range(len(words) - 2):  # 遍历单词列表并创建三元组\n",
    "        trigram = ' '.join(words[i:i+3])  # 使用空格连接三个连续的单词以构建三元组\n",
    "        trigrams.append(trigram)\n",
    "    return trigrams\n"
   ],
   "metadata": {
    "collapsed": false
   }
  },
  {
   "cell_type": "code",
   "execution_count": 62,
   "outputs": [
    {
     "name": "stdout",
     "output_type": "stream",
     "text": [
      "['import math n,', 'math n, m,', 'n, m, a', 'm, a =', 'a = map(int,', '= map(int, input().split())']\n"
     ]
    }
   ],
   "source": [
    "string = \"\"\"import math\n",
    "n, m, a = map(int, input().split())\"\"\"\n",
    "print(generate_trigrams(string))\n"
   ],
   "metadata": {
    "collapsed": false
   }
  },
  {
   "cell_type": "code",
   "execution_count": 68,
   "outputs": [],
   "source": [
    "import hashlib\n",
    "\n",
    "def generate_hash(tuple_text):\n",
    "    \"\"\"为给定的文本元组生成哈希值\"\"\"\n",
    "    return int(hashlib.sha256(tuple_text.encode('utf-8')).hexdigest(), 16)\n",
    "\n",
    "def generate_hashes_for_ngram(ngram_list, num_hashes=5):\n",
    "    \"\"\"为不同的N-元组生成指定数量的哈希值\"\"\"\n",
    "    return [[generate_hash(ngram + str(i)) for i in range(num_hashes)] for ngram in ngram_list]\n",
    "\n",
    "def minhash(hash_matrix):\n",
    "    \"\"\"为文档哈希矩阵的每一列取最小值来实现MinHash\"\"\"\n",
    "    return [min(col) for col in zip(*hash_matrix)]"
   ],
   "metadata": {
    "collapsed": false
   }
  },
  {
   "cell_type": "code",
   "execution_count": 71,
   "outputs": [
    {
     "name": "stdout",
     "output_type": "stream",
     "text": [
      "import math n,: [78149134553365072019066775144341277670111421087739512054818099953271490902912, 59802554008788181017501849161104303166835184258835941971123538498749717839410, 3769228439970723341477483693524990186945019192842147305650759239360087487732, 53232963759652475888720587332114382818059579000212916713009454504634250394057, 59397435971425653888946667088231756636550816685042897983825988182294850498956]\n",
      "math n, m,: [600793418204153550189536066512918301608424099041150134033652330543484825481, 97806190521931182457751456888272392718089203216732451690288889093504386853580, 38370078065514351124219195395634183032320375195922083111383374364717637694618, 64069454102526755705207035566195984050734407232165754232664927544526488439070, 104651007050237937740874437825452753794947150616383621776437477144652308200367]\n",
      "n, m, a: [18913708237792113415860115878944559017424004974950826964919516411217895150353, 38051928376668428940142715993718585868142810136774274995896967437768184890350, 78057380996533565833908015703905741783303150688083479970561963171955868874205, 60614519845729658012384815916351975884794404226870859621306061918946921926864, 91891343668951879582576004851480869801363494003137063051394258454251341297086]\n",
      "m, a =: [76074315395811846922990884149082694291669098480455860831242359633745259574537, 13952452452620577154839992794152450604856363389659175871830624693651562766401, 57801500717919672289850832147310132569383014982616992965134556704888905490877, 3518946447409102517942371936217337167083986662938580208830132602553330526012, 760934658966583914571676637105912867193339758085305212969229567831454656842]\n",
      "a = map(int,: [66745850091381186429178604475110985132424202636236874482699805638580812963578, 74506825845579858182950377804434093941120766302286405297637974216627584535836, 111058453892668957854030396534736947286194652764750712216091728391535955112883, 86195699750004646317315006352829741571988013207168097548395321779743751198933, 24386100227750138754788199386430678137964213507392225401439774080685159985208]\n",
      "= map(int, input().split()): [42043446338593343574102856657699930085009516863073234063901803034506464238472, 88640109923850314957150950618490248257987725112575106365586986352206910018202, 66669319241957334306706168775957080422605166463854425158753955371211845956810, 99582629559300118382300430761220013199136245997354798376189583159540117606786, 28329455181925902647350500096961806768648568644680456271932901679090939254666]\n",
      "MinHash values: [600793418204153550189536066512918301608424099041150134033652330543484825481, 13952452452620577154839992794152450604856363389659175871830624693651562766401, 3769228439970723341477483693524990186945019192842147305650759239360087487732, 3518946447409102517942371936217337167083986662938580208830132602553330526012, 760934658966583914571676637105912867193339758085305212969229567831454656842]\n"
     ]
    }
   ],
   "source": [
    "ngrams = ['import math n,', 'math n, m,', 'n, m, a', 'm, a =', 'a = map(int,', '= map(int, input().split())']\n",
    "hashes = generate_hashes_for_ngram(ngrams)\n",
    "for ngram, hash_vals in zip(ngrams, hashes):\n",
    "    print(f\"{ngram}: {hash_vals}\")\n",
    "min_hashes = minhash(hashes)\n",
    "print(f\"MinHash values: {min_hashes}\")\n"
   ],
   "metadata": {
    "collapsed": false
   }
  },
  {
   "cell_type": "code",
   "execution_count": null,
   "outputs": [],
   "source": [],
   "metadata": {
    "collapsed": false
   }
  }
 ],
 "metadata": {
  "kernelspec": {
   "display_name": "Python 3",
   "language": "python",
   "name": "python3"
  },
  "language_info": {
   "codemirror_mode": {
    "name": "ipython",
    "version": 2
   },
   "file_extension": ".py",
   "mimetype": "text/x-python",
   "name": "python",
   "nbconvert_exporter": "python",
   "pygments_lexer": "ipython2",
   "version": "2.7.6"
  }
 },
 "nbformat": 4,
 "nbformat_minor": 0
}
